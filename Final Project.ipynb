{
 "cells": [
  {
   "cell_type": "markdown",
   "id": "cc2010e0",
   "metadata": {},
   "source": [
    "# Final Project\n",
    "## Tyler Baker and Rathish Parayil Sasidharan\n",
    "\n",
    "Your project should incorporate one or both of the two main themes of this course: network analysis and text processing. You need to show all of your work in a coherent workflow, and in a reproducible format, such as an IPython Notebook or an R Markdown document. If you are building a model or models, explain how you evaluate the “goodness” of the chosen model and parameters. "
   ]
  },
  {
   "cell_type": "markdown",
   "id": "f70eaa4f",
   "metadata": {},
   "source": [
    "## Introduction\n",
    "\n",
    "\n",
    "### Setting the Environment"
   ]
  },
  {
   "cell_type": "code",
   "execution_count": 28,
   "id": "0e92a493",
   "metadata": {},
   "outputs": [],
   "source": [
    "import pandas as pd\n",
    "import numpy as np\n",
    "import networkx as nx\n",
    "import nltk\n",
    "import random\n",
    "import networkx.algorithms.bipartite as bipartite\n",
    "import matplotlib.pyplot as plt"
   ]
  },
  {
   "cell_type": "markdown",
   "id": "efff479e",
   "metadata": {},
   "source": [
    "### The Data\n",
    "We got our data from <a href=\"https://www.kaggle.com/datasets/d4rklucif3r/restaurant-reviews\">Kaggle</a>. The data consists of two columns: reviews and scores."
   ]
  },
  {
   "cell_type": "code",
   "execution_count": 29,
   "id": "be587bf7",
   "metadata": {},
   "outputs": [],
   "source": [
    "data_raw = pd.read_table(\"https://raw.githubusercontent.com/tylerbaker01/Data-620/main/Restaurant_Reviews.tsv\")"
   ]
  },
  {
   "cell_type": "code",
   "execution_count": 30,
   "id": "a7e5da65",
   "metadata": {},
   "outputs": [],
   "source": [
    "data_raw.columns = [\"review\", \"score\"]"
   ]
  },
  {
   "cell_type": "code",
   "execution_count": 31,
   "id": "3c3affd9",
   "metadata": {},
   "outputs": [
    {
     "data": {
      "text/html": [
       "<div>\n",
       "<style scoped>\n",
       "    .dataframe tbody tr th:only-of-type {\n",
       "        vertical-align: middle;\n",
       "    }\n",
       "\n",
       "    .dataframe tbody tr th {\n",
       "        vertical-align: top;\n",
       "    }\n",
       "\n",
       "    .dataframe thead th {\n",
       "        text-align: right;\n",
       "    }\n",
       "</style>\n",
       "<table border=\"1\" class=\"dataframe\">\n",
       "  <thead>\n",
       "    <tr style=\"text-align: right;\">\n",
       "      <th></th>\n",
       "      <th>review</th>\n",
       "      <th>score</th>\n",
       "    </tr>\n",
       "  </thead>\n",
       "  <tbody>\n",
       "    <tr>\n",
       "      <th>995</th>\n",
       "      <td>I think food should have flavor and texture an...</td>\n",
       "      <td>0</td>\n",
       "    </tr>\n",
       "    <tr>\n",
       "      <th>996</th>\n",
       "      <td>Appetite instantly gone.</td>\n",
       "      <td>0</td>\n",
       "    </tr>\n",
       "    <tr>\n",
       "      <th>997</th>\n",
       "      <td>Overall I was not impressed and would not go b...</td>\n",
       "      <td>0</td>\n",
       "    </tr>\n",
       "    <tr>\n",
       "      <th>998</th>\n",
       "      <td>The whole experience was underwhelming, and I ...</td>\n",
       "      <td>0</td>\n",
       "    </tr>\n",
       "    <tr>\n",
       "      <th>999</th>\n",
       "      <td>Then, as if I hadn't wasted enough of my life ...</td>\n",
       "      <td>0</td>\n",
       "    </tr>\n",
       "  </tbody>\n",
       "</table>\n",
       "</div>"
      ],
      "text/plain": [
       "                                                review  score\n",
       "995  I think food should have flavor and texture an...      0\n",
       "996                           Appetite instantly gone.      0\n",
       "997  Overall I was not impressed and would not go b...      0\n",
       "998  The whole experience was underwhelming, and I ...      0\n",
       "999  Then, as if I hadn't wasted enough of my life ...      0"
      ]
     },
     "execution_count": 31,
     "metadata": {},
     "output_type": "execute_result"
    }
   ],
   "source": [
    "data_raw.tail()"
   ]
  },
  {
   "cell_type": "markdown",
   "id": "ad84b874",
   "metadata": {},
   "source": [
    "We want to add restaurant IDs and Customer Ids. In order to have repitition we must insure that the amount of reviews > the amount of users > the amount of restaurants. Note that there are 1000 reviews. Let's say that there are 600 users and 100 restaurants. We chose these numbers at random."
   ]
  },
  {
   "cell_type": "code",
   "execution_count": 32,
   "id": "f2e608e5",
   "metadata": {},
   "outputs": [],
   "source": [
    "users_list = []\n",
    "for i in range(600):\n",
    "    users_list.append([f\"Customer {i}\"])\n",
    "users_list = users_list*2"
   ]
  },
  {
   "cell_type": "code",
   "execution_count": 33,
   "id": "b86ed7db",
   "metadata": {},
   "outputs": [],
   "source": [
    "restaurants_list = []\n",
    "for i in range(100):\n",
    "    restaurants_list.append([f\"Restaurant {i}\"])\n",
    "restaurants_list = restaurants_list *10"
   ]
  },
  {
   "cell_type": "markdown",
   "id": "10c7e143",
   "metadata": {},
   "source": [
    "Now we have made a list of 600 users and 100 restaurants. Next we must make a list of length 1000 for each where each index is randomly selected from the lists above."
   ]
  },
  {
   "cell_type": "code",
   "execution_count": 34,
   "id": "2abc8f83",
   "metadata": {},
   "outputs": [],
   "source": [
    "random.seed(97)\n",
    "users= []\n",
    "for i in range(1000):\n",
    "    users.append(random.choice(users_list)) "
   ]
  },
  {
   "cell_type": "code",
   "execution_count": 35,
   "id": "2d7f06ce",
   "metadata": {},
   "outputs": [],
   "source": [
    "restaurants = []\n",
    "for i in range(1000):\n",
    "    restaurants.append(random.choice(restaurants_list))"
   ]
  },
  {
   "cell_type": "code",
   "execution_count": 38,
   "id": "3788b413",
   "metadata": {},
   "outputs": [],
   "source": [
    "data_raw[\"user_id\"] = users\n",
    "data_raw[\"restaurant_id\"] = restaurants"
   ]
  },
  {
   "cell_type": "code",
   "execution_count": 39,
   "id": "74612d56",
   "metadata": {},
   "outputs": [
    {
     "data": {
      "text/html": [
       "<div>\n",
       "<style scoped>\n",
       "    .dataframe tbody tr th:only-of-type {\n",
       "        vertical-align: middle;\n",
       "    }\n",
       "\n",
       "    .dataframe tbody tr th {\n",
       "        vertical-align: top;\n",
       "    }\n",
       "\n",
       "    .dataframe thead th {\n",
       "        text-align: right;\n",
       "    }\n",
       "</style>\n",
       "<table border=\"1\" class=\"dataframe\">\n",
       "  <thead>\n",
       "    <tr style=\"text-align: right;\">\n",
       "      <th></th>\n",
       "      <th>review</th>\n",
       "      <th>score</th>\n",
       "      <th>user_id</th>\n",
       "      <th>restaurant_id</th>\n",
       "    </tr>\n",
       "  </thead>\n",
       "  <tbody>\n",
       "    <tr>\n",
       "      <th>0</th>\n",
       "      <td>Wow... Loved this place.</td>\n",
       "      <td>1</td>\n",
       "      <td>[Customer 398]</td>\n",
       "      <td>[Restaurant 37]</td>\n",
       "    </tr>\n",
       "    <tr>\n",
       "      <th>1</th>\n",
       "      <td>Crust is not good.</td>\n",
       "      <td>0</td>\n",
       "      <td>[Customer 278]</td>\n",
       "      <td>[Restaurant 78]</td>\n",
       "    </tr>\n",
       "    <tr>\n",
       "      <th>2</th>\n",
       "      <td>Not tasty and the texture was just nasty.</td>\n",
       "      <td>0</td>\n",
       "      <td>[Customer 161]</td>\n",
       "      <td>[Restaurant 28]</td>\n",
       "    </tr>\n",
       "    <tr>\n",
       "      <th>3</th>\n",
       "      <td>Stopped by during the late May bank holiday of...</td>\n",
       "      <td>1</td>\n",
       "      <td>[Customer 104]</td>\n",
       "      <td>[Restaurant 70]</td>\n",
       "    </tr>\n",
       "    <tr>\n",
       "      <th>4</th>\n",
       "      <td>The selection on the menu was great and so wer...</td>\n",
       "      <td>1</td>\n",
       "      <td>[Customer 576]</td>\n",
       "      <td>[Restaurant 37]</td>\n",
       "    </tr>\n",
       "  </tbody>\n",
       "</table>\n",
       "</div>"
      ],
      "text/plain": [
       "                                              review  score         user_id  \\\n",
       "0                           Wow... Loved this place.      1  [Customer 398]   \n",
       "1                                 Crust is not good.      0  [Customer 278]   \n",
       "2          Not tasty and the texture was just nasty.      0  [Customer 161]   \n",
       "3  Stopped by during the late May bank holiday of...      1  [Customer 104]   \n",
       "4  The selection on the menu was great and so wer...      1  [Customer 576]   \n",
       "\n",
       "     restaurant_id  \n",
       "0  [Restaurant 37]  \n",
       "1  [Restaurant 78]  \n",
       "2  [Restaurant 28]  \n",
       "3  [Restaurant 70]  \n",
       "4  [Restaurant 37]  "
      ]
     },
     "execution_count": 39,
     "metadata": {},
     "output_type": "execute_result"
    }
   ],
   "source": [
    "df = data_raw\n",
    "df.head()"
   ]
  },
  {
   "cell_type": "code",
   "execution_count": null,
   "id": "4a1043f4",
   "metadata": {},
   "outputs": [],
   "source": []
  }
 ],
 "metadata": {
  "kernelspec": {
   "display_name": "Python 3 (ipykernel)",
   "language": "python",
   "name": "python3"
  },
  "language_info": {
   "codemirror_mode": {
    "name": "ipython",
    "version": 3
   },
   "file_extension": ".py",
   "mimetype": "text/x-python",
   "name": "python",
   "nbconvert_exporter": "python",
   "pygments_lexer": "ipython3",
   "version": "3.9.7"
  }
 },
 "nbformat": 4,
 "nbformat_minor": 5
}
