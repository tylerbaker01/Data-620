{
 "cells": [
  {
   "cell_type": "markdown",
   "id": "73b6babf",
   "metadata": {},
   "source": [
    "# Final Project\n",
    "## Tyler Baker and Rathish Parayil Sasidharan\n",
    "\n",
    "Your project should incorporate one or both of the two main themes of this course: network analysis and text processing. You need to show all of your work in a coherent workflow, and in a reproducible format, such as an IPython Notebook or an R Markdown document. If you are building a model or models, explain how you evaluate the “goodness” of the chosen model and parameters. "
   ]
  },
  {
   "cell_type": "markdown",
   "id": "674a9e51",
   "metadata": {},
   "source": [
    "## Introduction\n",
    "\n",
    "\n",
    "### Setting the Environment"
   ]
  },
  {
   "cell_type": "code",
   "execution_count": 195,
   "id": "14c66be3",
   "metadata": {},
   "outputs": [],
   "source": [
    "import pandas as pd\n",
    "import numpy as np\n",
    "import networkx as nx\n",
    "import nltk\n",
    "import random\n",
    "import networkx.algorithms.bipartite as bipartite\n",
    "import matplotlib.pyplot as plt\n",
    "import re\n",
    "import string\n",
    "import math\n",
    "import collections"
   ]
  },
  {
   "cell_type": "markdown",
   "id": "f279d0a1",
   "metadata": {},
   "source": [
    "### The Data\n",
    "We got our data from <a href=\"https://www.kaggle.com/datasets/d4rklucif3r/restaurant-reviews\">Kaggle</a>. The data consists of two columns: reviews and scores."
   ]
  },
  {
   "cell_type": "code",
   "execution_count": 156,
   "id": "36ee8359",
   "metadata": {},
   "outputs": [],
   "source": [
    "data_raw = pd.read_table(\"https://raw.githubusercontent.com/tylerbaker01/Data-620/main/Restaurant_Reviews.tsv\")"
   ]
  },
  {
   "cell_type": "code",
   "execution_count": 161,
   "id": "4bab4920",
   "metadata": {},
   "outputs": [],
   "source": [
    "data_raw.columns = [\"review\", \"score\"]"
   ]
  },
  {
   "cell_type": "code",
   "execution_count": 162,
   "id": "b8149e1c",
   "metadata": {},
   "outputs": [
    {
     "data": {
      "text/html": [
       "<div>\n",
       "<style scoped>\n",
       "    .dataframe tbody tr th:only-of-type {\n",
       "        vertical-align: middle;\n",
       "    }\n",
       "\n",
       "    .dataframe tbody tr th {\n",
       "        vertical-align: top;\n",
       "    }\n",
       "\n",
       "    .dataframe thead th {\n",
       "        text-align: right;\n",
       "    }\n",
       "</style>\n",
       "<table border=\"1\" class=\"dataframe\">\n",
       "  <thead>\n",
       "    <tr style=\"text-align: right;\">\n",
       "      <th></th>\n",
       "      <th>review</th>\n",
       "      <th>score</th>\n",
       "    </tr>\n",
       "  </thead>\n",
       "  <tbody>\n",
       "    <tr>\n",
       "      <th>995</th>\n",
       "      <td>I think food should have flavor and texture an...</td>\n",
       "      <td>0</td>\n",
       "    </tr>\n",
       "    <tr>\n",
       "      <th>996</th>\n",
       "      <td>Appetite instantly gone.</td>\n",
       "      <td>0</td>\n",
       "    </tr>\n",
       "    <tr>\n",
       "      <th>997</th>\n",
       "      <td>Overall I was not impressed and would not go b...</td>\n",
       "      <td>0</td>\n",
       "    </tr>\n",
       "    <tr>\n",
       "      <th>998</th>\n",
       "      <td>The whole experience was underwhelming, and I ...</td>\n",
       "      <td>0</td>\n",
       "    </tr>\n",
       "    <tr>\n",
       "      <th>999</th>\n",
       "      <td>Then, as if I hadn't wasted enough of my life ...</td>\n",
       "      <td>0</td>\n",
       "    </tr>\n",
       "  </tbody>\n",
       "</table>\n",
       "</div>"
      ],
      "text/plain": [
       "                                                review  score\n",
       "995  I think food should have flavor and texture an...      0\n",
       "996                           Appetite instantly gone.      0\n",
       "997  Overall I was not impressed and would not go b...      0\n",
       "998  The whole experience was underwhelming, and I ...      0\n",
       "999  Then, as if I hadn't wasted enough of my life ...      0"
      ]
     },
     "execution_count": 162,
     "metadata": {},
     "output_type": "execute_result"
    }
   ],
   "source": [
    "data_raw.tail()"
   ]
  },
  {
   "cell_type": "markdown",
   "id": "d11cd701",
   "metadata": {},
   "source": [
    "We want to add restaurant IDs and Customer Ids. In order to have repitition we must insure that the amount of reviews > the amount of users > the amount of restaurants. Note that there are 1000 reviews. Let's say that there are 100 users and 20 restaurants. We chose these numbers at random, but they will allow for a lot of connections between restaurants and reviewers."
   ]
  },
  {
   "cell_type": "code",
   "execution_count": 163,
   "id": "3399d13f",
   "metadata": {},
   "outputs": [],
   "source": [
    "users_list = []\n",
    "for i in range(100):\n",
    "    users_list.append(f\"Customer {i}\")\n",
    "users_list = users_list*100"
   ]
  },
  {
   "cell_type": "code",
   "execution_count": 164,
   "id": "48b2e08c",
   "metadata": {},
   "outputs": [],
   "source": [
    "restaurants_list = []\n",
    "for i in range(20):\n",
    "    restaurants_list.append(f\"Restaurant {i}\")\n",
    "restaurants_list = restaurants_list *500"
   ]
  },
  {
   "cell_type": "markdown",
   "id": "3ac29a8d",
   "metadata": {},
   "source": [
    "Now we have made a list of 600 users and 100 restaurants. Next we must make a list of length 1000 for each where each index is randomly selected from the lists above."
   ]
  },
  {
   "cell_type": "code",
   "execution_count": 165,
   "id": "6fb031e9",
   "metadata": {},
   "outputs": [],
   "source": [
    "random.seed(97)\n",
    "users= []\n",
    "for i in range(1000):\n",
    "    users.append(random.choice(users_list)) "
   ]
  },
  {
   "cell_type": "code",
   "execution_count": 166,
   "id": "b5bf3714",
   "metadata": {},
   "outputs": [],
   "source": [
    "restaurants = []\n",
    "for i in range(1000):\n",
    "    restaurants.append(random.choice(restaurants_list))"
   ]
  },
  {
   "cell_type": "code",
   "execution_count": 167,
   "id": "9d0cfcc7",
   "metadata": {},
   "outputs": [],
   "source": [
    "df = data_raw\n",
    "\n",
    "df[\"user_id\"] = users\n",
    "df[\"restaurant_id\"] = restaurants"
   ]
  },
  {
   "cell_type": "code",
   "execution_count": 168,
   "id": "09bff8ea",
   "metadata": {},
   "outputs": [
    {
     "data": {
      "text/html": [
       "<div>\n",
       "<style scoped>\n",
       "    .dataframe tbody tr th:only-of-type {\n",
       "        vertical-align: middle;\n",
       "    }\n",
       "\n",
       "    .dataframe tbody tr th {\n",
       "        vertical-align: top;\n",
       "    }\n",
       "\n",
       "    .dataframe thead th {\n",
       "        text-align: right;\n",
       "    }\n",
       "</style>\n",
       "<table border=\"1\" class=\"dataframe\">\n",
       "  <thead>\n",
       "    <tr style=\"text-align: right;\">\n",
       "      <th></th>\n",
       "      <th>review</th>\n",
       "      <th>score</th>\n",
       "      <th>user_id</th>\n",
       "      <th>restaurant_id</th>\n",
       "    </tr>\n",
       "  </thead>\n",
       "  <tbody>\n",
       "    <tr>\n",
       "      <th>0</th>\n",
       "      <td>Wow... Loved this place.</td>\n",
       "      <td>1</td>\n",
       "      <td>Customer 87</td>\n",
       "      <td>Restaurant 13</td>\n",
       "    </tr>\n",
       "    <tr>\n",
       "      <th>1</th>\n",
       "      <td>Crust is not good.</td>\n",
       "      <td>0</td>\n",
       "      <td>Customer 28</td>\n",
       "      <td>Restaurant 2</td>\n",
       "    </tr>\n",
       "    <tr>\n",
       "      <th>2</th>\n",
       "      <td>Not tasty and the texture was just nasty.</td>\n",
       "      <td>0</td>\n",
       "      <td>Customer 95</td>\n",
       "      <td>Restaurant 16</td>\n",
       "    </tr>\n",
       "    <tr>\n",
       "      <th>3</th>\n",
       "      <td>Stopped by during the late May bank holiday of...</td>\n",
       "      <td>1</td>\n",
       "      <td>Customer 34</td>\n",
       "      <td>Restaurant 17</td>\n",
       "    </tr>\n",
       "    <tr>\n",
       "      <th>4</th>\n",
       "      <td>The selection on the menu was great and so wer...</td>\n",
       "      <td>1</td>\n",
       "      <td>Customer 10</td>\n",
       "      <td>Restaurant 17</td>\n",
       "    </tr>\n",
       "  </tbody>\n",
       "</table>\n",
       "</div>"
      ],
      "text/plain": [
       "                                              review  score      user_id  \\\n",
       "0                           Wow... Loved this place.      1  Customer 87   \n",
       "1                                 Crust is not good.      0  Customer 28   \n",
       "2          Not tasty and the texture was just nasty.      0  Customer 95   \n",
       "3  Stopped by during the late May bank holiday of...      1  Customer 34   \n",
       "4  The selection on the menu was great and so wer...      1  Customer 10   \n",
       "\n",
       "   restaurant_id  \n",
       "0  Restaurant 13  \n",
       "1   Restaurant 2  \n",
       "2  Restaurant 16  \n",
       "3  Restaurant 17  \n",
       "4  Restaurant 17  "
      ]
     },
     "execution_count": 168,
     "metadata": {},
     "output_type": "execute_result"
    }
   ],
   "source": [
    "df.head()"
   ]
  },
  {
   "cell_type": "markdown",
   "id": "7a4e68eb",
   "metadata": {},
   "source": [
    "We have now created our data frame."
   ]
  },
  {
   "cell_type": "markdown",
   "id": "81f9009c",
   "metadata": {},
   "source": [
    "## Part 1\n",
    "### SNA"
   ]
  },
  {
   "cell_type": "code",
   "execution_count": null,
   "id": "c5e2ed2f",
   "metadata": {},
   "outputs": [],
   "source": []
  },
  {
   "cell_type": "code",
   "execution_count": null,
   "id": "e1eb4198",
   "metadata": {},
   "outputs": [],
   "source": []
  },
  {
   "cell_type": "code",
   "execution_count": null,
   "id": "fe7dadf3",
   "metadata": {},
   "outputs": [],
   "source": []
  },
  {
   "cell_type": "code",
   "execution_count": null,
   "id": "5dff6a2a",
   "metadata": {},
   "outputs": [],
   "source": []
  },
  {
   "cell_type": "markdown",
   "id": "efe7dcf7",
   "metadata": {},
   "source": [
    "## Part 2 - NLP\n",
    "### Analyze Review Data\n",
    "Our goal here is to analyze the review data.\n",
    "#### Handling the Data"
   ]
  },
  {
   "cell_type": "code",
   "execution_count": 36,
   "id": "0ef3119f",
   "metadata": {},
   "outputs": [],
   "source": [
    "df_nlp = df"
   ]
  },
  {
   "cell_type": "code",
   "execution_count": 37,
   "id": "9b1def03",
   "metadata": {},
   "outputs": [],
   "source": [
    "from sklearn.feature_extraction.text import CountVectorizer, ENGLISH_STOP_WORDS"
   ]
  },
  {
   "cell_type": "code",
   "execution_count": 38,
   "id": "9ea387a5",
   "metadata": {},
   "outputs": [],
   "source": [
    "text = df_nlp[['review']]"
   ]
  },
  {
   "cell_type": "markdown",
   "id": "8d6a8a39",
   "metadata": {},
   "source": [
    "Now we need to start cleaning the data. There are contractions, capitalization, punctuation, and numerals that we do not want."
   ]
  },
  {
   "cell_type": "code",
   "execution_count": 39,
   "id": "1b527b5a",
   "metadata": {},
   "outputs": [
    {
     "name": "stderr",
     "output_type": "stream",
     "text": [
      "C:\\Users\\tyler\\AppData\\Local\\Temp/ipykernel_5092/3291383234.py:46: SettingWithCopyWarning: \n",
      "A value is trying to be set on a copy of a slice from a DataFrame.\n",
      "Try using .loc[row_indexer,col_indexer] = value instead\n",
      "\n",
      "See the caveats in the documentation: https://pandas.pydata.org/pandas-docs/stable/user_guide/indexing.html#returning-a-view-versus-a-copy\n",
      "  text['review']=text['review'].apply(lambda x:expand_contractions(x))\n"
     ]
    }
   ],
   "source": [
    "# First we will remove contractions.\n",
    "contractions_dict = { \"ain't\": \"are not\",\"'s\":\" is\",\"aren't\": \"are not\",\n",
    "                     \"can't\": \"cannot\",\"can't've\": \"cannot have\",\n",
    "                     \"'cause\": \"because\",\"could've\": \"could have\",\"couldn't\": \"could not\",\n",
    "                     \"couldn't've\": \"could not have\", \"didn't\": \"did not\",\"doesn't\": \"does not\",\n",
    "                     \"don't\": \"do not\",\"hadn't\": \"had not\",\"hadn't've\": \"had not have\",\n",
    "                     \"hasn't\": \"has not\",\"haven't\": \"have not\",\"he'd\": \"he would\",\n",
    "                     \"he'd've\": \"he would have\",\"he'll\": \"he will\", \"he'll've\": \"he will have\",\n",
    "                     \"how'd\": \"how did\",\"how'd'y\": \"how do you\",\"how'll\": \"how will\",\n",
    "                     \"I'd\": \"I would\", \"I'd've\": \"I would have\",\"I'll\": \"I will\",\n",
    "                     \"I'll've\": \"I will have\",\"I'm\": \"I am\",\"I've\": \"I have\", \"isn't\": \"is not\",\n",
    "                     \"it'd\": \"it would\",\"it'd've\": \"it would have\",\"it'll\": \"it will\",\n",
    "                     \"it'll've\": \"it will have\", \"let's\": \"let us\",\"ma'am\": \"madam\",\n",
    "                     \"mayn't\": \"may not\",\"might've\": \"might have\",\"mightn't\": \"might not\", \n",
    "                     \"mightn't've\": \"might not have\",\"must've\": \"must have\",\"mustn't\": \"must not\",\n",
    "                     \"mustn't've\": \"must not have\", \"needn't\": \"need not\",\n",
    "                     \"needn't've\": \"need not have\",\"o'clock\": \"of the clock\",\"oughtn't\": \"ought not\",\n",
    "                     \"oughtn't've\": \"ought not have\",\"shan't\": \"shall not\",\"sha'n't\": \"shall not\",\n",
    "                     \"shan't've\": \"shall not have\",\"she'd\": \"she would\",\"she'd've\": \"she would have\",\n",
    "                     \"she'll\": \"she will\", \"she'll've\": \"she will have\",\"should've\": \"should have\",\n",
    "                     \"shouldn't\": \"should not\", \"shouldn't've\": \"should not have\",\"so've\": \"so have\",\n",
    "                     \"that'd\": \"that would\",\"that'd've\": \"that would have\", \"there'd\": \"there would\",\n",
    "                     \"there'd've\": \"there would have\", \"they'd\": \"they would\",\n",
    "                     \"they'd've\": \"they would have\",\"they'll\": \"they will\",\n",
    "                     \"they'll've\": \"they will have\", \"they're\": \"they are\",\"they've\": \"they have\",\n",
    "                     \"to've\": \"to have\",\"wasn't\": \"was not\",\"we'd\": \"we would\",\n",
    "                     \"we'd've\": \"we would have\",\"we'll\": \"we will\",\"we'll've\": \"we will have\",\n",
    "                     \"we're\": \"we are\",\"we've\": \"we have\", \"weren't\": \"were not\",\"what'll\": \"what will\",\n",
    "                     \"what'll've\": \"what will have\",\"what're\": \"what are\", \"what've\": \"what have\",\n",
    "                     \"when've\": \"when have\",\"where'd\": \"where did\", \"where've\": \"where have\",\n",
    "                     \"who'll\": \"who will\",\"who'll've\": \"who will have\",\"who've\": \"who have\",\n",
    "                     \"why've\": \"why have\",\"will've\": \"will have\",\"won't\": \"will not\",\n",
    "                     \"won't've\": \"will not have\", \"would've\": \"would have\",\"wouldn't\": \"would not\",\n",
    "                     \"wouldn't've\": \"would not have\",\"y'all\": \"you all\", \"y'all'd\": \"you all would\",\n",
    "                     \"y'all'd've\": \"you all would have\",\"y'all're\": \"you all are\",\n",
    "                     \"y'all've\": \"you all have\", \"you'd\": \"you would\",\"you'd've\": \"you would have\",\n",
    "                     \"you'll\": \"you will\",\"you'll've\": \"you will have\", \"you're\": \"you are\",\n",
    "                     \"you've\": \"you have\"}\n",
    "contractions_re=re.compile('(%s)' % '|'.join(contractions_dict.keys()))\n",
    "\n",
    "def expand_contractions(text,contractions_dict=contractions_dict):\n",
    "    def replace(match):\n",
    "        return contractions_dict[match.group(0)]\n",
    "    return contractions_re.sub(replace, text)\n",
    "\n",
    "text['review']=text['review'].apply(lambda x:expand_contractions(x))"
   ]
  },
  {
   "cell_type": "code",
   "execution_count": 43,
   "id": "8011e773",
   "metadata": {},
   "outputs": [
    {
     "name": "stderr",
     "output_type": "stream",
     "text": [
      "C:\\Users\\tyler\\AppData\\Local\\Temp/ipykernel_5092/3873873711.py:2: SettingWithCopyWarning: \n",
      "A value is trying to be set on a copy of a slice from a DataFrame.\n",
      "Try using .loc[row_indexer,col_indexer] = value instead\n",
      "\n",
      "See the caveats in the documentation: https://pandas.pydata.org/pandas-docs/stable/user_guide/indexing.html#returning-a-view-versus-a-copy\n",
      "  text['review']=text['review'].apply(lambda x: x.lower())\n"
     ]
    }
   ],
   "source": [
    "# Now we will turn every word into lowercase.\n",
    "text['review']=text['review'].apply(lambda x: x.lower())"
   ]
  },
  {
   "cell_type": "code",
   "execution_count": 47,
   "id": "07165b2c",
   "metadata": {},
   "outputs": [
    {
     "name": "stderr",
     "output_type": "stream",
     "text": [
      "C:\\Users\\tyler\\AppData\\Local\\Temp/ipykernel_5092/1535979897.py:2: SettingWithCopyWarning: \n",
      "A value is trying to be set on a copy of a slice from a DataFrame.\n",
      "Try using .loc[row_indexer,col_indexer] = value instead\n",
      "\n",
      "See the caveats in the documentation: https://pandas.pydata.org/pandas-docs/stable/user_guide/indexing.html#returning-a-view-versus-a-copy\n",
      "  text['review']=text['review'].apply(lambda x: re.sub('[%s]' % re.escape(string.punctuation), '', x))\n"
     ]
    }
   ],
   "source": [
    "# Now we will remove punctuations.\n",
    "text['review']=text['review'].apply(lambda x: re.sub('[%s]' % re.escape(string.punctuation), '', x))"
   ]
  },
  {
   "cell_type": "code",
   "execution_count": 49,
   "id": "1d94e695",
   "metadata": {},
   "outputs": [
    {
     "name": "stderr",
     "output_type": "stream",
     "text": [
      "C:\\Users\\tyler\\AppData\\Local\\Temp/ipykernel_5092/799112792.py:2: SettingWithCopyWarning: \n",
      "A value is trying to be set on a copy of a slice from a DataFrame.\n",
      "Try using .loc[row_indexer,col_indexer] = value instead\n",
      "\n",
      "See the caveats in the documentation: https://pandas.pydata.org/pandas-docs/stable/user_guide/indexing.html#returning-a-view-versus-a-copy\n",
      "  text['review']=text['review'].apply(lambda x: re.sub('\\w*\\d\\w*','', x))\n"
     ]
    }
   ],
   "source": [
    "# Finally, we will remove numerals.\n",
    "text['review']=text['review'].apply(lambda x: re.sub('\\w*\\d\\w*','', x))"
   ]
  },
  {
   "cell_type": "markdown",
   "id": "9c130d73",
   "metadata": {},
   "source": [
    "Great. We have cleaned the reviews and now we want to split the data by each word."
   ]
  },
  {
   "cell_type": "code",
   "execution_count": 52,
   "id": "0fd6eca0",
   "metadata": {},
   "outputs": [],
   "source": [
    "txt = text['review']\n",
    "txt = txt.values.tolist()"
   ]
  },
  {
   "cell_type": "code",
   "execution_count": 86,
   "id": "3cf8e2a4",
   "metadata": {},
   "outputs": [],
   "source": [
    "t = ' '.join(txt)"
   ]
  },
  {
   "cell_type": "code",
   "execution_count": 84,
   "id": "346d40f8",
   "metadata": {},
   "outputs": [],
   "source": [
    "from nltk.tokenize import sent_tokenize, word_tokenize"
   ]
  },
  {
   "cell_type": "code",
   "execution_count": 91,
   "id": "78e9b89f",
   "metadata": {},
   "outputs": [],
   "source": [
    "words = word_tokenize(t)"
   ]
  },
  {
   "cell_type": "code",
   "execution_count": 92,
   "id": "959d77f2",
   "metadata": {},
   "outputs": [
    {
     "data": {
      "text/plain": [
       "['wow', 'loved', 'this', 'place', 'crust', 'is', 'not', 'good', 'not', 'tasty']"
      ]
     },
     "execution_count": 92,
     "metadata": {},
     "output_type": "execute_result"
    }
   ],
   "source": [
    "words[0:10]"
   ]
  },
  {
   "cell_type": "markdown",
   "id": "b1c97f32",
   "metadata": {},
   "source": [
    "Now we can remove stopwords."
   ]
  },
  {
   "cell_type": "code",
   "execution_count": 93,
   "id": "6a5f9da0",
   "metadata": {},
   "outputs": [],
   "source": [
    "from nltk.corpus import stopwords"
   ]
  },
  {
   "cell_type": "code",
   "execution_count": 94,
   "id": "374f8e08",
   "metadata": {},
   "outputs": [],
   "source": [
    "stop_words = set(stopwords.words('english'))"
   ]
  },
  {
   "cell_type": "code",
   "execution_count": 95,
   "id": "e06b9d24",
   "metadata": {},
   "outputs": [],
   "source": [
    "filtered_list = []"
   ]
  },
  {
   "cell_type": "code",
   "execution_count": 97,
   "id": "b598a3e6",
   "metadata": {},
   "outputs": [],
   "source": [
    "# store all of the non stop words.\n",
    "for word in words:\n",
    "    if word.casefold() not in stop_words:\n",
    "        filtered_list.append(word)"
   ]
  },
  {
   "cell_type": "markdown",
   "id": "f8305a57",
   "metadata": {},
   "source": [
    "Now we want to reduce our words down to their root words."
   ]
  },
  {
   "cell_type": "code",
   "execution_count": 101,
   "id": "f9292358",
   "metadata": {},
   "outputs": [],
   "source": [
    "from nltk.stem import WordNetLemmatizer\n",
    "lemmatizer = WordNetLemmatizer()"
   ]
  },
  {
   "cell_type": "code",
   "execution_count": 105,
   "id": "d739677f",
   "metadata": {},
   "outputs": [],
   "source": [
    "lemmatized_list = []\n",
    "for word in words:\n",
    "    lemmatized_list.append(lemmatizer.lemmatize(word))"
   ]
  },
  {
   "cell_type": "code",
   "execution_count": 102,
   "id": "3def7092",
   "metadata": {},
   "outputs": [],
   "source": [
    "lemmatized_list = [lemmatizer.lemmatize(word) in filtered_list]"
   ]
  },
  {
   "cell_type": "markdown",
   "id": "8252f117",
   "metadata": {},
   "source": [
    "#### Analyzing"
   ]
  },
  {
   "cell_type": "code",
   "execution_count": 111,
   "id": "974763cd",
   "metadata": {},
   "outputs": [],
   "source": [
    "# Tokens\n",
    "from nltk import FreqDist\n",
    "freq = FreqDist(lemmatized_list)"
   ]
  },
  {
   "cell_type": "markdown",
   "id": "e6d902cc",
   "metadata": {},
   "source": [
    "We will create a list of the 20 most common used words from the reviews."
   ]
  },
  {
   "cell_type": "code",
   "execution_count": 113,
   "id": "e5aca58c",
   "metadata": {},
   "outputs": [
    {
     "data": {
      "text/plain": [
       "[('the', 584),\n",
       " ('and', 389),\n",
       " ('i', 356),\n",
       " ('wa', 308),\n",
       " ('a', 273),\n",
       " ('to', 219),\n",
       " ('is', 213),\n",
       " ('not', 208),\n",
       " ('it', 152),\n",
       " ('this', 143),\n",
       " ('of', 127),\n",
       " ('food', 125),\n",
       " ('place', 111),\n",
       " ('for', 110),\n",
       " ('in', 107),\n",
       " ('good', 95),\n",
       " ('service', 84),\n",
       " ('we', 84),\n",
       " ('have', 84),\n",
       " ('very', 75)]"
      ]
     },
     "execution_count": 113,
     "metadata": {},
     "output_type": "execute_result"
    }
   ],
   "source": [
    "freq.most_common(20)"
   ]
  },
  {
   "cell_type": "markdown",
   "id": "36e45279",
   "metadata": {},
   "source": [
    "Next we will create a list of the most common collocations."
   ]
  },
  {
   "cell_type": "code",
   "execution_count": 137,
   "id": "f005935f",
   "metadata": {},
   "outputs": [],
   "source": [
    "# Bigrams\n",
    "bigrams = nltk.bigrams(lemmatized_list)"
   ]
  },
  {
   "cell_type": "code",
   "execution_count": 138,
   "id": "c461fbcc",
   "metadata": {},
   "outputs": [],
   "source": [
    "bigram_freq = FreqDist(bigrams)"
   ]
  },
  {
   "cell_type": "code",
   "execution_count": 139,
   "id": "adb1cf4f",
   "metadata": {},
   "outputs": [
    {
     "data": {
      "text/plain": [
       "[(('this', 'place'), 73),\n",
       " (('the', 'food'), 47),\n",
       " (('it', 'wa'), 45),\n",
       " (('i', 'have'), 39),\n",
       " (('and', 'the'), 38),\n",
       " (('food', 'wa'), 33),\n",
       " (('and', 'i'), 30),\n",
       " (('of', 'the'), 29),\n",
       " (('it', 'is'), 28),\n",
       " (('do', 'not'), 27),\n",
       " (('i', 'will'), 27),\n",
       " (('i', 'am'), 26),\n",
       " (('service', 'wa'), 26),\n",
       " (('wa', 'not'), 26),\n",
       " (('on', 'the'), 25),\n",
       " (('did', 'not'), 25),\n",
       " (('the', 'service'), 25),\n",
       " (('will', 'not'), 25),\n",
       " (('i', 'wa'), 23),\n",
       " (('wa', 'very'), 22)]"
      ]
     },
     "execution_count": 139,
     "metadata": {},
     "output_type": "execute_result"
    }
   ],
   "source": [
    "bigram_freq.most_common(20)"
   ]
  },
  {
   "cell_type": "code",
   "execution_count": 140,
   "id": "92d36a3b",
   "metadata": {},
   "outputs": [],
   "source": [
    "# Trigrams\n",
    "trigrams = nltk.trigrams(lemmatized_list)\n",
    "trigram_freq = FreqDist(trigrams)"
   ]
  },
  {
   "cell_type": "code",
   "execution_count": 141,
   "id": "1696f064",
   "metadata": {},
   "outputs": [
    {
     "data": {
      "text/plain": [
       "[(('will', 'not', 'be'), 21),\n",
       " (('the', 'food', 'wa'), 20),\n",
       " (('this', 'place', 'is'), 18),\n",
       " (('the', 'service', 'wa'), 15),\n",
       " (('i', 'do', 'not'), 14),\n",
       " (('i', 'will', 'not'), 12),\n",
       " (('and', 'it', 'wa'), 11),\n",
       " (('i', 'have', 'ever'), 10),\n",
       " (('the', 'food', 'is'), 9),\n",
       " (('i', 'have', 'been'), 9),\n",
       " (('our', 'server', 'wa'), 7),\n",
       " (('this', 'place', 'the'), 7),\n",
       " (('not', 'be', 'back'), 7),\n",
       " (('will', 'be', 'back'), 6),\n",
       " (('it', 'wa', 'not'), 6),\n",
       " (('one', 'of', 'the'), 6),\n",
       " (('and', 'the', 'food'), 6),\n",
       " (('this', 'is', 'a'), 6),\n",
       " (('to', 'go', 'back'), 6),\n",
       " (('and', 'the', 'service'), 6)]"
      ]
     },
     "execution_count": 141,
     "metadata": {},
     "output_type": "execute_result"
    }
   ],
   "source": [
    "trigram_freq.most_common(20)"
   ]
  },
  {
   "cell_type": "markdown",
   "id": "7355c353",
   "metadata": {},
   "source": [
    "#### Visualization"
   ]
  },
  {
   "cell_type": "code",
   "execution_count": 124,
   "id": "41056df7",
   "metadata": {},
   "outputs": [
    {
     "data": {
      "image/png": "[encoded data removed]",
      "text/plain": [
       "<Figure size 432x288 with 1 Axes>"
      ]
     },
     "metadata": {
      "needs_background": "light"
     },
     "output_type": "display_data"
    },
    {
     "data": {
      "text/plain": [
       "<AxesSubplot:xlabel='Samples', ylabel='Counts'>"
      ]
     },
     "execution_count": 124,
     "metadata": {},
     "output_type": "execute_result"
    }
   ],
   "source": [
    "freq.plot(35)"
   ]
  },
  {
   "cell_type": "code",
   "execution_count": 142,
   "id": "407bc2ef",
   "metadata": {},
   "outputs": [
    {
     "data": {
      "image/png": "[encoded data removed]",
      "text/plain": [
       "<Figure size 432x288 with 1 Axes>"
      ]
     },
     "metadata": {
      "needs_background": "light"
     },
     "output_type": "display_data"
    },
    {
     "data": {
      "text/plain": [
       "<AxesSubplot:xlabel='Samples', ylabel='Counts'>"
      ]
     },
     "execution_count": 142,
     "metadata": {},
     "output_type": "execute_result"
    }
   ],
   "source": [
    "bigram_freq.plot(35)"
   ]
  },
  {
   "cell_type": "code",
   "execution_count": 143,
   "id": "575d5c60",
   "metadata": {},
   "outputs": [
    {
     "data": {
      "image/png": "[encoded data removed]",
      "text/plain": [
       "<Figure size 432x288 with 1 Axes>"
      ]
     },
     "metadata": {
      "needs_background": "light"
     },
     "output_type": "display_data"
    },
    {
     "data": {
      "text/plain": [
       "<AxesSubplot:xlabel='Samples', ylabel='Counts'>"
      ]
     },
     "execution_count": 143,
     "metadata": {},
     "output_type": "execute_result"
    }
   ],
   "source": [
    "trigram_freq.plot(35)"
   ]
  },
  {
   "cell_type": "markdown",
   "id": "9b7264af",
   "metadata": {},
   "source": [
    "### Rating Prediction\n",
    "The goal here is to take the review data and split it into a training set and a test set. Then we train the training set until we can attempt to predict the test set. We want each review to be either rated as: Good, or Bad. Realistically, a rating system with more options that good or bad is much better. Unfortunately, we have the data we have. "
   ]
  },
  {
   "cell_type": "markdown",
   "id": "56741423",
   "metadata": {},
   "source": [
    "We will make three sets. A test_set of 100 reviews, a dev_test set of 100 reviews, and a train_set of 800 reviews."
   ]
  },
  {
   "cell_type": "markdown",
   "id": "e9eb395b",
   "metadata": {},
   "source": [
    "#### The Data\n",
    "We will use the data from the beginning but we only need the reviews and the score."
   ]
  },
  {
   "cell_type": "code",
   "execution_count": 170,
   "id": "33fb50bd",
   "metadata": {},
   "outputs": [],
   "source": [
    "reviews_scores = data_raw[[\"review\", \"score\"]]"
   ]
  },
  {
   "cell_type": "code",
   "execution_count": 180,
   "id": "7e7d03b9",
   "metadata": {},
   "outputs": [],
   "source": [
    "reviews_scores = reviews_scores.values.tolist()"
   ]
  },
  {
   "cell_type": "markdown",
   "id": "0d604aa6",
   "metadata": {},
   "source": [
    "#### Creating the Simulation\n",
    "This will be done very much like project 3. Since project 3 used polarized data, and we are here it will make a nice transition."
   ]
  },
  {
   "cell_type": "code",
   "execution_count": 176,
   "id": "27ef4fac",
   "metadata": {},
   "outputs": [],
   "source": [
    "def accuracy(number_of_runs, function):\n",
    "    accuracy_df = {\n",
    "        \"classifier\": [],\n",
    "        \"train_set_acc\": [],\n",
    "        \"dev_set_acc\": [],\n",
    "        \"test_acc\": []\n",
    "    }\n",
    "    for i in range(number_of_runs):\n",
    "        random.shuffle(reviews_scores)\n",
    "        dev_name_set = reviews_scores[0:100]\n",
    "        test_name_set = reviews_scores[100:200]\n",
    "        train_name_set = reviews_scores[200:]\n",
    "        dev_set = [(function(n), i) for (n, i) in dev_name_set]\n",
    "        test_set = [(function(n), i) for (n, i) in test_name_set]\n",
    "        train_set = [(function(n), i) for (n, i) in train_name_set]\n",
    "        classifier = nltk.NaiveBayesClassifier.train(train_set)\n",
    "        accuracy_df[\"classifier\"].append(classifier)\n",
    "        accuracy_df[\"train_set_acc\"].append(nltk.classify.accuracy(classifier, train_set))\n",
    "        accuracy_df[\"dev_set_acc\"].append(nltk.classify.accuracy(classifier, dev_set))\n",
    "        accuracy_df[\"test_acc\"].append(nltk.classify.accuracy(classifier, test_set))\n",
    "    accuracy_df = pd.DataFrame.from_dict(accuracy_df)\n",
    "    return(accuracy_df)"
   ]
  },
  {
   "cell_type": "markdown",
   "id": "fdf1f171",
   "metadata": {},
   "source": [
    "#### Creating Features\n",
    "Now we can create features which classify the text based on certain conditions."
   ]
  },
  {
   "cell_type": "code",
   "execution_count": 173,
   "id": "4e590706",
   "metadata": {},
   "outputs": [],
   "source": [
    "# Length of Review. Total characters.\n",
    "def length_of_review(review):\n",
    "    return {\"length\": len(review)}"
   ]
  },
  {
   "cell_type": "code",
   "execution_count": 181,
   "id": "8aefb4cc",
   "metadata": {},
   "outputs": [],
   "source": [
    "char_amount_df = accuracy(100, length_of_review)"
   ]
  },
  {
   "cell_type": "code",
   "execution_count": 182,
   "id": "2b8516b7",
   "metadata": {},
   "outputs": [
    {
     "data": {
      "text/html": [
       "<div>\n",
       "<style scoped>\n",
       "    .dataframe tbody tr th:only-of-type {\n",
       "        vertical-align: middle;\n",
       "    }\n",
       "\n",
       "    .dataframe tbody tr th {\n",
       "        vertical-align: top;\n",
       "    }\n",
       "\n",
       "    .dataframe thead th {\n",
       "        text-align: right;\n",
       "    }\n",
       "</style>\n",
       "<table border=\"1\" class=\"dataframe\">\n",
       "  <thead>\n",
       "    <tr style=\"text-align: right;\">\n",
       "      <th></th>\n",
       "      <th>train_set_acc</th>\n",
       "      <th>dev_set_acc</th>\n",
       "      <th>test_acc</th>\n",
       "    </tr>\n",
       "  </thead>\n",
       "  <tbody>\n",
       "    <tr>\n",
       "      <th>count</th>\n",
       "      <td>100.000000</td>\n",
       "      <td>100.000000</td>\n",
       "      <td>100.00000</td>\n",
       "    </tr>\n",
       "    <tr>\n",
       "      <th>mean</th>\n",
       "      <td>0.640400</td>\n",
       "      <td>0.466400</td>\n",
       "      <td>0.47910</td>\n",
       "    </tr>\n",
       "    <tr>\n",
       "      <th>std</th>\n",
       "      <td>0.006858</td>\n",
       "      <td>0.047917</td>\n",
       "      <td>0.04864</td>\n",
       "    </tr>\n",
       "    <tr>\n",
       "      <th>min</th>\n",
       "      <td>0.623750</td>\n",
       "      <td>0.370000</td>\n",
       "      <td>0.38000</td>\n",
       "    </tr>\n",
       "    <tr>\n",
       "      <th>25%</th>\n",
       "      <td>0.636250</td>\n",
       "      <td>0.437500</td>\n",
       "      <td>0.44000</td>\n",
       "    </tr>\n",
       "    <tr>\n",
       "      <th>50%</th>\n",
       "      <td>0.640000</td>\n",
       "      <td>0.460000</td>\n",
       "      <td>0.47500</td>\n",
       "    </tr>\n",
       "    <tr>\n",
       "      <th>75%</th>\n",
       "      <td>0.645000</td>\n",
       "      <td>0.500000</td>\n",
       "      <td>0.51000</td>\n",
       "    </tr>\n",
       "    <tr>\n",
       "      <th>max</th>\n",
       "      <td>0.657500</td>\n",
       "      <td>0.590000</td>\n",
       "      <td>0.63000</td>\n",
       "    </tr>\n",
       "  </tbody>\n",
       "</table>\n",
       "</div>"
      ],
      "text/plain": [
       "       train_set_acc  dev_set_acc   test_acc\n",
       "count     100.000000   100.000000  100.00000\n",
       "mean        0.640400     0.466400    0.47910\n",
       "std         0.006858     0.047917    0.04864\n",
       "min         0.623750     0.370000    0.38000\n",
       "25%         0.636250     0.437500    0.44000\n",
       "50%         0.640000     0.460000    0.47500\n",
       "75%         0.645000     0.500000    0.51000\n",
       "max         0.657500     0.590000    0.63000"
      ]
     },
     "execution_count": 182,
     "metadata": {},
     "output_type": "execute_result"
    }
   ],
   "source": [
    "char_amount_df.describe()"
   ]
  },
  {
   "cell_type": "code",
   "execution_count": 184,
   "id": "2a59707f",
   "metadata": {},
   "outputs": [],
   "source": [
    "# The amount of words in a review.\n",
    "def words_in_review(review):\n",
    "    return {\"length\": len(review.split())}"
   ]
  },
  {
   "cell_type": "code",
   "execution_count": 185,
   "id": "6a6fbc7b",
   "metadata": {},
   "outputs": [],
   "source": [
    "word_amount_df = accuracy(100, words_in_review)"
   ]
  },
  {
   "cell_type": "code",
   "execution_count": 186,
   "id": "c241007e",
   "metadata": {},
   "outputs": [
    {
     "data": {
      "text/html": [
       "<div>\n",
       "<style scoped>\n",
       "    .dataframe tbody tr th:only-of-type {\n",
       "        vertical-align: middle;\n",
       "    }\n",
       "\n",
       "    .dataframe tbody tr th {\n",
       "        vertical-align: top;\n",
       "    }\n",
       "\n",
       "    .dataframe thead th {\n",
       "        text-align: right;\n",
       "    }\n",
       "</style>\n",
       "<table border=\"1\" class=\"dataframe\">\n",
       "  <thead>\n",
       "    <tr style=\"text-align: right;\">\n",
       "      <th></th>\n",
       "      <th>train_set_acc</th>\n",
       "      <th>dev_set_acc</th>\n",
       "      <th>test_acc</th>\n",
       "    </tr>\n",
       "  </thead>\n",
       "  <tbody>\n",
       "    <tr>\n",
       "      <th>count</th>\n",
       "      <td>100.000000</td>\n",
       "      <td>100.000000</td>\n",
       "      <td>100.000000</td>\n",
       "    </tr>\n",
       "    <tr>\n",
       "      <th>mean</th>\n",
       "      <td>0.581113</td>\n",
       "      <td>0.513300</td>\n",
       "      <td>0.521700</td>\n",
       "    </tr>\n",
       "    <tr>\n",
       "      <th>std</th>\n",
       "      <td>0.006904</td>\n",
       "      <td>0.053164</td>\n",
       "      <td>0.052108</td>\n",
       "    </tr>\n",
       "    <tr>\n",
       "      <th>min</th>\n",
       "      <td>0.567500</td>\n",
       "      <td>0.380000</td>\n",
       "      <td>0.400000</td>\n",
       "    </tr>\n",
       "    <tr>\n",
       "      <th>25%</th>\n",
       "      <td>0.576250</td>\n",
       "      <td>0.477500</td>\n",
       "      <td>0.490000</td>\n",
       "    </tr>\n",
       "    <tr>\n",
       "      <th>50%</th>\n",
       "      <td>0.580625</td>\n",
       "      <td>0.510000</td>\n",
       "      <td>0.520000</td>\n",
       "    </tr>\n",
       "    <tr>\n",
       "      <th>75%</th>\n",
       "      <td>0.585000</td>\n",
       "      <td>0.550000</td>\n",
       "      <td>0.560000</td>\n",
       "    </tr>\n",
       "    <tr>\n",
       "      <th>max</th>\n",
       "      <td>0.598750</td>\n",
       "      <td>0.640000</td>\n",
       "      <td>0.640000</td>\n",
       "    </tr>\n",
       "  </tbody>\n",
       "</table>\n",
       "</div>"
      ],
      "text/plain": [
       "       train_set_acc  dev_set_acc    test_acc\n",
       "count     100.000000   100.000000  100.000000\n",
       "mean        0.581113     0.513300    0.521700\n",
       "std         0.006904     0.053164    0.052108\n",
       "min         0.567500     0.380000    0.400000\n",
       "25%         0.576250     0.477500    0.490000\n",
       "50%         0.580625     0.510000    0.520000\n",
       "75%         0.585000     0.550000    0.560000\n",
       "max         0.598750     0.640000    0.640000"
      ]
     },
     "execution_count": 186,
     "metadata": {},
     "output_type": "execute_result"
    }
   ],
   "source": [
    "word_amount_df.describe()"
   ]
  },
  {
   "cell_type": "code",
   "execution_count": 187,
   "id": "d1e2f44f",
   "metadata": {},
   "outputs": [],
   "source": [
    "# If the letters \"b\" and \"g\" are in the review.\n",
    "def b_n_g(review):\n",
    "    return {\"b_and_g\": bool(re.match('^[bg]+$', review))}"
   ]
  },
  {
   "cell_type": "code",
   "execution_count": 188,
   "id": "169ebb13",
   "metadata": {},
   "outputs": [],
   "source": [
    "b_n_g_df = accuracy(100, b_n_g)"
   ]
  },
  {
   "cell_type": "code",
   "execution_count": 189,
   "id": "8c7345a6",
   "metadata": {},
   "outputs": [
    {
     "data": {
      "text/html": [
       "<div>\n",
       "<style scoped>\n",
       "    .dataframe tbody tr th:only-of-type {\n",
       "        vertical-align: middle;\n",
       "    }\n",
       "\n",
       "    .dataframe tbody tr th {\n",
       "        vertical-align: top;\n",
       "    }\n",
       "\n",
       "    .dataframe thead th {\n",
       "        text-align: right;\n",
       "    }\n",
       "</style>\n",
       "<table border=\"1\" class=\"dataframe\">\n",
       "  <thead>\n",
       "    <tr style=\"text-align: right;\">\n",
       "      <th></th>\n",
       "      <th>train_set_acc</th>\n",
       "      <th>dev_set_acc</th>\n",
       "      <th>test_acc</th>\n",
       "    </tr>\n",
       "  </thead>\n",
       "  <tbody>\n",
       "    <tr>\n",
       "      <th>count</th>\n",
       "      <td>100.000000</td>\n",
       "      <td>100.000000</td>\n",
       "      <td>100.000000</td>\n",
       "    </tr>\n",
       "    <tr>\n",
       "      <th>mean</th>\n",
       "      <td>0.506762</td>\n",
       "      <td>0.474200</td>\n",
       "      <td>0.471700</td>\n",
       "    </tr>\n",
       "    <tr>\n",
       "      <th>std</th>\n",
       "      <td>0.004537</td>\n",
       "      <td>0.042048</td>\n",
       "      <td>0.043066</td>\n",
       "    </tr>\n",
       "    <tr>\n",
       "      <th>min</th>\n",
       "      <td>0.500000</td>\n",
       "      <td>0.360000</td>\n",
       "      <td>0.330000</td>\n",
       "    </tr>\n",
       "    <tr>\n",
       "      <th>25%</th>\n",
       "      <td>0.502500</td>\n",
       "      <td>0.450000</td>\n",
       "      <td>0.450000</td>\n",
       "    </tr>\n",
       "    <tr>\n",
       "      <th>50%</th>\n",
       "      <td>0.506250</td>\n",
       "      <td>0.470000</td>\n",
       "      <td>0.480000</td>\n",
       "    </tr>\n",
       "    <tr>\n",
       "      <th>75%</th>\n",
       "      <td>0.510000</td>\n",
       "      <td>0.500000</td>\n",
       "      <td>0.500000</td>\n",
       "    </tr>\n",
       "    <tr>\n",
       "      <th>max</th>\n",
       "      <td>0.518750</td>\n",
       "      <td>0.580000</td>\n",
       "      <td>0.560000</td>\n",
       "    </tr>\n",
       "  </tbody>\n",
       "</table>\n",
       "</div>"
      ],
      "text/plain": [
       "       train_set_acc  dev_set_acc    test_acc\n",
       "count     100.000000   100.000000  100.000000\n",
       "mean        0.506762     0.474200    0.471700\n",
       "std         0.004537     0.042048    0.043066\n",
       "min         0.500000     0.360000    0.330000\n",
       "25%         0.502500     0.450000    0.450000\n",
       "50%         0.506250     0.470000    0.480000\n",
       "75%         0.510000     0.500000    0.500000\n",
       "max         0.518750     0.580000    0.560000"
      ]
     },
     "execution_count": 189,
     "metadata": {},
     "output_type": "execute_result"
    }
   ],
   "source": [
    "b_n_g_df.describe()"
   ]
  },
  {
   "cell_type": "code",
   "execution_count": 190,
   "id": "c71b40be",
   "metadata": {},
   "outputs": [],
   "source": [
    "# Amount of words and amount of characters\n",
    "def amounts(review):\n",
    "    return {\"char_len\": len(review), \"word_amount\": len(review.split())}"
   ]
  },
  {
   "cell_type": "code",
   "execution_count": 191,
   "id": "1e9bea1e",
   "metadata": {},
   "outputs": [],
   "source": [
    "amounts_df = accuracy(100, amounts)"
   ]
  },
  {
   "cell_type": "code",
   "execution_count": 192,
   "id": "aff8e963",
   "metadata": {},
   "outputs": [
    {
     "data": {
      "text/html": [
       "<div>\n",
       "<style scoped>\n",
       "    .dataframe tbody tr th:only-of-type {\n",
       "        vertical-align: middle;\n",
       "    }\n",
       "\n",
       "    .dataframe tbody tr th {\n",
       "        vertical-align: top;\n",
       "    }\n",
       "\n",
       "    .dataframe thead th {\n",
       "        text-align: right;\n",
       "    }\n",
       "</style>\n",
       "<table border=\"1\" class=\"dataframe\">\n",
       "  <thead>\n",
       "    <tr style=\"text-align: right;\">\n",
       "      <th></th>\n",
       "      <th>train_set_acc</th>\n",
       "      <th>dev_set_acc</th>\n",
       "      <th>test_acc</th>\n",
       "    </tr>\n",
       "  </thead>\n",
       "  <tbody>\n",
       "    <tr>\n",
       "      <th>count</th>\n",
       "      <td>100.000000</td>\n",
       "      <td>100.000000</td>\n",
       "      <td>100.000000</td>\n",
       "    </tr>\n",
       "    <tr>\n",
       "      <th>mean</th>\n",
       "      <td>0.652313</td>\n",
       "      <td>0.497600</td>\n",
       "      <td>0.491000</td>\n",
       "    </tr>\n",
       "    <tr>\n",
       "      <th>std</th>\n",
       "      <td>0.009690</td>\n",
       "      <td>0.049485</td>\n",
       "      <td>0.045048</td>\n",
       "    </tr>\n",
       "    <tr>\n",
       "      <th>min</th>\n",
       "      <td>0.632500</td>\n",
       "      <td>0.400000</td>\n",
       "      <td>0.400000</td>\n",
       "    </tr>\n",
       "    <tr>\n",
       "      <th>25%</th>\n",
       "      <td>0.646250</td>\n",
       "      <td>0.460000</td>\n",
       "      <td>0.460000</td>\n",
       "    </tr>\n",
       "    <tr>\n",
       "      <th>50%</th>\n",
       "      <td>0.651250</td>\n",
       "      <td>0.500000</td>\n",
       "      <td>0.490000</td>\n",
       "    </tr>\n",
       "    <tr>\n",
       "      <th>75%</th>\n",
       "      <td>0.658750</td>\n",
       "      <td>0.530000</td>\n",
       "      <td>0.520000</td>\n",
       "    </tr>\n",
       "    <tr>\n",
       "      <th>max</th>\n",
       "      <td>0.687500</td>\n",
       "      <td>0.630000</td>\n",
       "      <td>0.590000</td>\n",
       "    </tr>\n",
       "  </tbody>\n",
       "</table>\n",
       "</div>"
      ],
      "text/plain": [
       "       train_set_acc  dev_set_acc    test_acc\n",
       "count     100.000000   100.000000  100.000000\n",
       "mean        0.652313     0.497600    0.491000\n",
       "std         0.009690     0.049485    0.045048\n",
       "min         0.632500     0.400000    0.400000\n",
       "25%         0.646250     0.460000    0.460000\n",
       "50%         0.651250     0.500000    0.490000\n",
       "75%         0.658750     0.530000    0.520000\n",
       "max         0.687500     0.630000    0.590000"
      ]
     },
     "execution_count": 192,
     "metadata": {},
     "output_type": "execute_result"
    }
   ],
   "source": [
    "amounts_df.describe()"
   ]
  },
  {
   "cell_type": "markdown",
   "id": "dce5da91",
   "metadata": {},
   "source": [
    "So clearly the features we have tried have not worked well. Our next attempt is to make a list of positive words and a list of negative words to use as features."
   ]
  },
  {
   "cell_type": "code",
   "execution_count": 216,
   "id": "878b5121",
   "metadata": {},
   "outputs": [],
   "source": [
    "positive_words = [\"good\", \"positive\", \"excellent\", \"fun\", \"awesome\", \"delicious\", \"wow\", \"affordable\", \"clean\", \"quick\"]\n",
    "negative_words = [\"bad\", \"loud\", \"dirty\", \"dark\", \"gross\", \"expensive\", \"slow\", \"rude\", \"negative\", \"crowded\"]"
   ]
  },
  {
   "cell_type": "code",
   "execution_count": 217,
   "id": "40199278",
   "metadata": {},
   "outputs": [],
   "source": [
    "# Positive_words\n",
    "def p_words(review):\n",
    "    words = review.split()\n",
    "    return {\"matches\": any(i in words for i in positive_words)}"
   ]
  },
  {
   "cell_type": "code",
   "execution_count": 219,
   "id": "94948e6a",
   "metadata": {},
   "outputs": [],
   "source": [
    "positive_df = accuracy(100, p_words)"
   ]
  },
  {
   "cell_type": "code",
   "execution_count": 220,
   "id": "eb666148",
   "metadata": {},
   "outputs": [
    {
     "data": {
      "text/html": [
       "<div>\n",
       "<style scoped>\n",
       "    .dataframe tbody tr th:only-of-type {\n",
       "        vertical-align: middle;\n",
       "    }\n",
       "\n",
       "    .dataframe tbody tr th {\n",
       "        vertical-align: top;\n",
       "    }\n",
       "\n",
       "    .dataframe thead th {\n",
       "        text-align: right;\n",
       "    }\n",
       "</style>\n",
       "<table border=\"1\" class=\"dataframe\">\n",
       "  <thead>\n",
       "    <tr style=\"text-align: right;\">\n",
       "      <th></th>\n",
       "      <th>train_set_acc</th>\n",
       "      <th>dev_set_acc</th>\n",
       "      <th>test_acc</th>\n",
       "    </tr>\n",
       "  </thead>\n",
       "  <tbody>\n",
       "    <tr>\n",
       "      <th>count</th>\n",
       "      <td>100.000000</td>\n",
       "      <td>100.000000</td>\n",
       "      <td>100.000000</td>\n",
       "    </tr>\n",
       "    <tr>\n",
       "      <th>mean</th>\n",
       "      <td>0.556163</td>\n",
       "      <td>0.563200</td>\n",
       "      <td>0.557500</td>\n",
       "    </tr>\n",
       "    <tr>\n",
       "      <th>std</th>\n",
       "      <td>0.007047</td>\n",
       "      <td>0.039514</td>\n",
       "      <td>0.048396</td>\n",
       "    </tr>\n",
       "    <tr>\n",
       "      <th>min</th>\n",
       "      <td>0.538750</td>\n",
       "      <td>0.460000</td>\n",
       "      <td>0.460000</td>\n",
       "    </tr>\n",
       "    <tr>\n",
       "      <th>25%</th>\n",
       "      <td>0.551250</td>\n",
       "      <td>0.540000</td>\n",
       "      <td>0.520000</td>\n",
       "    </tr>\n",
       "    <tr>\n",
       "      <th>50%</th>\n",
       "      <td>0.556250</td>\n",
       "      <td>0.560000</td>\n",
       "      <td>0.560000</td>\n",
       "    </tr>\n",
       "    <tr>\n",
       "      <th>75%</th>\n",
       "      <td>0.560000</td>\n",
       "      <td>0.590000</td>\n",
       "      <td>0.590000</td>\n",
       "    </tr>\n",
       "    <tr>\n",
       "      <th>max</th>\n",
       "      <td>0.573750</td>\n",
       "      <td>0.670000</td>\n",
       "      <td>0.690000</td>\n",
       "    </tr>\n",
       "  </tbody>\n",
       "</table>\n",
       "</div>"
      ],
      "text/plain": [
       "       train_set_acc  dev_set_acc    test_acc\n",
       "count     100.000000   100.000000  100.000000\n",
       "mean        0.556163     0.563200    0.557500\n",
       "std         0.007047     0.039514    0.048396\n",
       "min         0.538750     0.460000    0.460000\n",
       "25%         0.551250     0.540000    0.520000\n",
       "50%         0.556250     0.560000    0.560000\n",
       "75%         0.560000     0.590000    0.590000\n",
       "max         0.573750     0.670000    0.690000"
      ]
     },
     "execution_count": 220,
     "metadata": {},
     "output_type": "execute_result"
    }
   ],
   "source": [
    "positive_df.describe()"
   ]
  },
  {
   "cell_type": "code",
   "execution_count": 221,
   "id": "52780c36",
   "metadata": {},
   "outputs": [],
   "source": [
    "# Negative_words\n",
    "def neg_words(review):\n",
    "    words = review.split()\n",
    "    return {\"matches\": any(i in words for i in negative_words)}"
   ]
  },
  {
   "cell_type": "code",
   "execution_count": 222,
   "id": "97bacc49",
   "metadata": {},
   "outputs": [],
   "source": [
    "neg_df = accuracy(100, neg_words)"
   ]
  },
  {
   "cell_type": "code",
   "execution_count": 223,
   "id": "fd5215ac",
   "metadata": {},
   "outputs": [
    {
     "data": {
      "text/html": [
       "<div>\n",
       "<style scoped>\n",
       "    .dataframe tbody tr th:only-of-type {\n",
       "        vertical-align: middle;\n",
       "    }\n",
       "\n",
       "    .dataframe tbody tr th {\n",
       "        vertical-align: top;\n",
       "    }\n",
       "\n",
       "    .dataframe thead th {\n",
       "        text-align: right;\n",
       "    }\n",
       "</style>\n",
       "<table border=\"1\" class=\"dataframe\">\n",
       "  <thead>\n",
       "    <tr style=\"text-align: right;\">\n",
       "      <th></th>\n",
       "      <th>train_set_acc</th>\n",
       "      <th>dev_set_acc</th>\n",
       "      <th>test_acc</th>\n",
       "    </tr>\n",
       "  </thead>\n",
       "  <tbody>\n",
       "    <tr>\n",
       "      <th>count</th>\n",
       "      <td>100.000000</td>\n",
       "      <td>100.000000</td>\n",
       "      <td>100.000000</td>\n",
       "    </tr>\n",
       "    <tr>\n",
       "      <th>mean</th>\n",
       "      <td>0.519187</td>\n",
       "      <td>0.503500</td>\n",
       "      <td>0.506400</td>\n",
       "    </tr>\n",
       "    <tr>\n",
       "      <th>std</th>\n",
       "      <td>0.006610</td>\n",
       "      <td>0.050898</td>\n",
       "      <td>0.049859</td>\n",
       "    </tr>\n",
       "    <tr>\n",
       "      <th>min</th>\n",
       "      <td>0.506250</td>\n",
       "      <td>0.380000</td>\n",
       "      <td>0.380000</td>\n",
       "    </tr>\n",
       "    <tr>\n",
       "      <th>25%</th>\n",
       "      <td>0.513750</td>\n",
       "      <td>0.470000</td>\n",
       "      <td>0.480000</td>\n",
       "    </tr>\n",
       "    <tr>\n",
       "      <th>50%</th>\n",
       "      <td>0.518750</td>\n",
       "      <td>0.510000</td>\n",
       "      <td>0.510000</td>\n",
       "    </tr>\n",
       "    <tr>\n",
       "      <th>75%</th>\n",
       "      <td>0.523750</td>\n",
       "      <td>0.540000</td>\n",
       "      <td>0.540000</td>\n",
       "    </tr>\n",
       "    <tr>\n",
       "      <th>max</th>\n",
       "      <td>0.540000</td>\n",
       "      <td>0.620000</td>\n",
       "      <td>0.610000</td>\n",
       "    </tr>\n",
       "  </tbody>\n",
       "</table>\n",
       "</div>"
      ],
      "text/plain": [
       "       train_set_acc  dev_set_acc    test_acc\n",
       "count     100.000000   100.000000  100.000000\n",
       "mean        0.519187     0.503500    0.506400\n",
       "std         0.006610     0.050898    0.049859\n",
       "min         0.506250     0.380000    0.380000\n",
       "25%         0.513750     0.470000    0.480000\n",
       "50%         0.518750     0.510000    0.510000\n",
       "75%         0.523750     0.540000    0.540000\n",
       "max         0.540000     0.620000    0.610000"
      ]
     },
     "execution_count": 223,
     "metadata": {},
     "output_type": "execute_result"
    }
   ],
   "source": [
    "neg_df.describe()"
   ]
  },
  {
   "cell_type": "markdown",
   "id": "3774d661",
   "metadata": {},
   "source": [
    "So that did no help much either. Let's see what happens if we combine them."
   ]
  },
  {
   "cell_type": "code",
   "execution_count": 226,
   "id": "1dc824be",
   "metadata": {},
   "outputs": [],
   "source": [
    "def common_words(review):\n",
    "    words = review.split()\n",
    "    return {\"matches\": any(i in words for i in (negative_words + positive_words))}"
   ]
  },
  {
   "cell_type": "code",
   "execution_count": 227,
   "id": "2f018a93",
   "metadata": {},
   "outputs": [],
   "source": [
    "com_df = accuracy(100, common_words)"
   ]
  },
  {
   "cell_type": "code",
   "execution_count": 228,
   "id": "8790eb27",
   "metadata": {},
   "outputs": [
    {
     "data": {
      "text/html": [
       "<div>\n",
       "<style scoped>\n",
       "    .dataframe tbody tr th:only-of-type {\n",
       "        vertical-align: middle;\n",
       "    }\n",
       "\n",
       "    .dataframe tbody tr th {\n",
       "        vertical-align: top;\n",
       "    }\n",
       "\n",
       "    .dataframe thead th {\n",
       "        text-align: right;\n",
       "    }\n",
       "</style>\n",
       "<table border=\"1\" class=\"dataframe\">\n",
       "  <thead>\n",
       "    <tr style=\"text-align: right;\">\n",
       "      <th></th>\n",
       "      <th>train_set_acc</th>\n",
       "      <th>dev_set_acc</th>\n",
       "      <th>test_acc</th>\n",
       "    </tr>\n",
       "  </thead>\n",
       "  <tbody>\n",
       "    <tr>\n",
       "      <th>count</th>\n",
       "      <td>100.000000</td>\n",
       "      <td>100.000000</td>\n",
       "      <td>100.000000</td>\n",
       "    </tr>\n",
       "    <tr>\n",
       "      <th>mean</th>\n",
       "      <td>0.538538</td>\n",
       "      <td>0.546300</td>\n",
       "      <td>0.531500</td>\n",
       "    </tr>\n",
       "    <tr>\n",
       "      <th>std</th>\n",
       "      <td>0.008068</td>\n",
       "      <td>0.046551</td>\n",
       "      <td>0.046891</td>\n",
       "    </tr>\n",
       "    <tr>\n",
       "      <th>min</th>\n",
       "      <td>0.518750</td>\n",
       "      <td>0.410000</td>\n",
       "      <td>0.360000</td>\n",
       "    </tr>\n",
       "    <tr>\n",
       "      <th>25%</th>\n",
       "      <td>0.532500</td>\n",
       "      <td>0.520000</td>\n",
       "      <td>0.500000</td>\n",
       "    </tr>\n",
       "    <tr>\n",
       "      <th>50%</th>\n",
       "      <td>0.538750</td>\n",
       "      <td>0.550000</td>\n",
       "      <td>0.535000</td>\n",
       "    </tr>\n",
       "    <tr>\n",
       "      <th>75%</th>\n",
       "      <td>0.542812</td>\n",
       "      <td>0.580000</td>\n",
       "      <td>0.560000</td>\n",
       "    </tr>\n",
       "    <tr>\n",
       "      <th>max</th>\n",
       "      <td>0.561250</td>\n",
       "      <td>0.640000</td>\n",
       "      <td>0.640000</td>\n",
       "    </tr>\n",
       "  </tbody>\n",
       "</table>\n",
       "</div>"
      ],
      "text/plain": [
       "       train_set_acc  dev_set_acc    test_acc\n",
       "count     100.000000   100.000000  100.000000\n",
       "mean        0.538538     0.546300    0.531500\n",
       "std         0.008068     0.046551    0.046891\n",
       "min         0.518750     0.410000    0.360000\n",
       "25%         0.532500     0.520000    0.500000\n",
       "50%         0.538750     0.550000    0.535000\n",
       "75%         0.542812     0.580000    0.560000\n",
       "max         0.561250     0.640000    0.640000"
      ]
     },
     "execution_count": 228,
     "metadata": {},
     "output_type": "execute_result"
    }
   ],
   "source": [
    "com_df.describe()"
   ]
  },
  {
   "cell_type": "markdown",
   "id": "a51eac16",
   "metadata": {},
   "source": [
    "#### Conclusions for the prediction model\n",
    "That was hard, and surprising. The models that used review lengths as their features performed better than those that were matched to other lists. I imagine if we had a bigger list of the most commonly used positive and negative words are model would score much higher."
   ]
  },
  {
   "cell_type": "code",
   "execution_count": null,
   "id": "b67942b5",
   "metadata": {},
   "outputs": [],
   "source": []
  }
 ],
 "metadata": {
  "kernelspec": {
   "display_name": "Python 3 (ipykernel)",
   "language": "python",
   "name": "python3"
  },
  "language_info": {
   "codemirror_mode": {
    "name": "ipython",
    "version": 3
   },
   "file_extension": ".py",
   "mimetype": "text/x-python",
   "name": "python",
   "nbconvert_exporter": "python",
   "pygments_lexer": "ipython3",
   "version": "3.9.7"
  }
 },
 "nbformat": 4,
 "nbformat_minor": 5
}
