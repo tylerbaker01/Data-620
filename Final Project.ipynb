{
 "cells": [
  {
   "cell_type": "markdown",
   "id": "73b6babf",
   "metadata": {},
   "source": [
    "# Final Project\n",
    "## Tyler Baker and Rathish Parayil Sasidharan\n",
    "\n",
    "Your project should incorporate one or both of the two main themes of this course: network analysis and text processing. You need to show all of your work in a coherent workflow, and in a reproducible format, such as an IPython Notebook or an R Markdown document. If you are building a model or models, explain how you evaluate the “goodness” of the chosen model and parameters. "
   ]
  },
  {
   "cell_type": "markdown",
   "id": "674a9e51",
   "metadata": {},
   "source": [
    "## Introduction\n",
    "\n",
    "\n",
    "### Setting the Environment"
   ]
  },
  {
   "cell_type": "code",
   "execution_count": 3,
   "id": "14c66be3",
   "metadata": {},
   "outputs": [],
   "source": [
    "import pandas as pd\n",
    "import numpy as np\n",
    "import networkx as nx\n",
    "import nltk\n",
    "import random\n",
    "import networkx.algorithms.bipartite as bipartite\n",
    "import matplotlib.pyplot as plt\n",
    "import re"
   ]
  },
  {
   "cell_type": "markdown",
   "id": "f279d0a1",
   "metadata": {},
   "source": [
    "### The Data\n",
    "We got our data from <a href=\"https://www.kaggle.com/datasets/d4rklucif3r/restaurant-reviews\">Kaggle</a>. The data consists of two columns: reviews and scores."
   ]
  },
  {
   "cell_type": "code",
   "execution_count": 4,
   "id": "36ee8359",
   "metadata": {},
   "outputs": [],
   "source": [
    "data_raw = pd.read_table(\"https://raw.githubusercontent.com/tylerbaker01/Data-620/main/Restaurant_Reviews.tsv\")"
   ]
  },
  {
   "cell_type": "code",
   "execution_count": 5,
   "id": "4bab4920",
   "metadata": {},
   "outputs": [],
   "source": [
    "data_raw.columns = [\"review\", \"score\"]"
   ]
  },
  {
   "cell_type": "code",
   "execution_count": 6,
   "id": "b8149e1c",
   "metadata": {},
   "outputs": [
    {
     "data": {
      "text/html": [
       "<div>\n",
       "<style scoped>\n",
       "    .dataframe tbody tr th:only-of-type {\n",
       "        vertical-align: middle;\n",
       "    }\n",
       "\n",
       "    .dataframe tbody tr th {\n",
       "        vertical-align: top;\n",
       "    }\n",
       "\n",
       "    .dataframe thead th {\n",
       "        text-align: right;\n",
       "    }\n",
       "</style>\n",
       "<table border=\"1\" class=\"dataframe\">\n",
       "  <thead>\n",
       "    <tr style=\"text-align: right;\">\n",
       "      <th></th>\n",
       "      <th>review</th>\n",
       "      <th>score</th>\n",
       "    </tr>\n",
       "  </thead>\n",
       "  <tbody>\n",
       "    <tr>\n",
       "      <th>995</th>\n",
       "      <td>I think food should have flavor and texture an...</td>\n",
       "      <td>0</td>\n",
       "    </tr>\n",
       "    <tr>\n",
       "      <th>996</th>\n",
       "      <td>Appetite instantly gone.</td>\n",
       "      <td>0</td>\n",
       "    </tr>\n",
       "    <tr>\n",
       "      <th>997</th>\n",
       "      <td>Overall I was not impressed and would not go b...</td>\n",
       "      <td>0</td>\n",
       "    </tr>\n",
       "    <tr>\n",
       "      <th>998</th>\n",
       "      <td>The whole experience was underwhelming, and I ...</td>\n",
       "      <td>0</td>\n",
       "    </tr>\n",
       "    <tr>\n",
       "      <th>999</th>\n",
       "      <td>Then, as if I hadn't wasted enough of my life ...</td>\n",
       "      <td>0</td>\n",
       "    </tr>\n",
       "  </tbody>\n",
       "</table>\n",
       "</div>"
      ],
      "text/plain": [
       "                                                review  score\n",
       "995  I think food should have flavor and texture an...      0\n",
       "996                           Appetite instantly gone.      0\n",
       "997  Overall I was not impressed and would not go b...      0\n",
       "998  The whole experience was underwhelming, and I ...      0\n",
       "999  Then, as if I hadn't wasted enough of my life ...      0"
      ]
     },
     "execution_count": 6,
     "metadata": {},
     "output_type": "execute_result"
    }
   ],
   "source": [
    "data_raw.tail()"
   ]
  },
  {
   "cell_type": "markdown",
   "id": "d11cd701",
   "metadata": {},
   "source": [
    "We want to add restaurant IDs and Customer Ids. In order to have repitition we must insure that the amount of reviews > the amount of users > the amount of restaurants. Note that there are 1000 reviews. Let's say that there are 600 users and 100 restaurants. We chose these numbers at random."
   ]
  },
  {
   "cell_type": "code",
   "execution_count": 24,
   "id": "3399d13f",
   "metadata": {},
   "outputs": [],
   "source": [
    "users_list = []\n",
    "for i in range(100):\n",
    "    users_list.append(f\"Customer {i}\")\n",
    "users_list = users_list*100"
   ]
  },
  {
   "cell_type": "code",
   "execution_count": 25,
   "id": "48b2e08c",
   "metadata": {},
   "outputs": [],
   "source": [
    "restaurants_list = []\n",
    "for i in range(20):\n",
    "    restaurants_list.append(f\"Restaurant {i}\")\n",
    "restaurants_list = restaurants_list *500"
   ]
  },
  {
   "cell_type": "markdown",
   "id": "3ac29a8d",
   "metadata": {},
   "source": [
    "Now we have made a list of 600 users and 100 restaurants. Next we must make a list of length 1000 for each where each index is randomly selected from the lists above."
   ]
  },
  {
   "cell_type": "code",
   "execution_count": 26,
   "id": "6fb031e9",
   "metadata": {},
   "outputs": [],
   "source": [
    "random.seed(97)\n",
    "users= []\n",
    "for i in range(1000):\n",
    "    users.append(random.choice(users_list)) "
   ]
  },
  {
   "cell_type": "code",
   "execution_count": 27,
   "id": "b5bf3714",
   "metadata": {},
   "outputs": [],
   "source": [
    "restaurants = []\n",
    "for i in range(1000):\n",
    "    restaurants.append(random.choice(restaurants_list))"
   ]
  },
  {
   "cell_type": "code",
   "execution_count": 28,
   "id": "9d0cfcc7",
   "metadata": {},
   "outputs": [],
   "source": [
    "data_raw[\"user_id\"] = users\n",
    "data_raw[\"restaurant_id\"] = restaurants"
   ]
  },
  {
   "cell_type": "code",
   "execution_count": 29,
   "id": "09bff8ea",
   "metadata": {},
   "outputs": [
    {
     "data": {
      "text/html": [
       "<div>\n",
       "<style scoped>\n",
       "    .dataframe tbody tr th:only-of-type {\n",
       "        vertical-align: middle;\n",
       "    }\n",
       "\n",
       "    .dataframe tbody tr th {\n",
       "        vertical-align: top;\n",
       "    }\n",
       "\n",
       "    .dataframe thead th {\n",
       "        text-align: right;\n",
       "    }\n",
       "</style>\n",
       "<table border=\"1\" class=\"dataframe\">\n",
       "  <thead>\n",
       "    <tr style=\"text-align: right;\">\n",
       "      <th></th>\n",
       "      <th>review</th>\n",
       "      <th>score</th>\n",
       "      <th>user_id</th>\n",
       "      <th>restaurant_id</th>\n",
       "    </tr>\n",
       "  </thead>\n",
       "  <tbody>\n",
       "    <tr>\n",
       "      <th>0</th>\n",
       "      <td>Wow... Loved this place.</td>\n",
       "      <td>1</td>\n",
       "      <td>Customer 87</td>\n",
       "      <td>Restaurant 13</td>\n",
       "    </tr>\n",
       "    <tr>\n",
       "      <th>1</th>\n",
       "      <td>Crust is not good.</td>\n",
       "      <td>0</td>\n",
       "      <td>Customer 28</td>\n",
       "      <td>Restaurant 2</td>\n",
       "    </tr>\n",
       "    <tr>\n",
       "      <th>2</th>\n",
       "      <td>Not tasty and the texture was just nasty.</td>\n",
       "      <td>0</td>\n",
       "      <td>Customer 95</td>\n",
       "      <td>Restaurant 16</td>\n",
       "    </tr>\n",
       "    <tr>\n",
       "      <th>3</th>\n",
       "      <td>Stopped by during the late May bank holiday of...</td>\n",
       "      <td>1</td>\n",
       "      <td>Customer 34</td>\n",
       "      <td>Restaurant 17</td>\n",
       "    </tr>\n",
       "    <tr>\n",
       "      <th>4</th>\n",
       "      <td>The selection on the menu was great and so wer...</td>\n",
       "      <td>1</td>\n",
       "      <td>Customer 10</td>\n",
       "      <td>Restaurant 17</td>\n",
       "    </tr>\n",
       "  </tbody>\n",
       "</table>\n",
       "</div>"
      ],
      "text/plain": [
       "                                              review  score      user_id  \\\n",
       "0                           Wow... Loved this place.      1  Customer 87   \n",
       "1                                 Crust is not good.      0  Customer 28   \n",
       "2          Not tasty and the texture was just nasty.      0  Customer 95   \n",
       "3  Stopped by during the late May bank holiday of...      1  Customer 34   \n",
       "4  The selection on the menu was great and so wer...      1  Customer 10   \n",
       "\n",
       "   restaurant_id  \n",
       "0  Restaurant 13  \n",
       "1   Restaurant 2  \n",
       "2  Restaurant 16  \n",
       "3  Restaurant 17  \n",
       "4  Restaurant 17  "
      ]
     },
     "execution_count": 29,
     "metadata": {},
     "output_type": "execute_result"
    }
   ],
   "source": [
    "df = data_raw\n",
    "df.head()"
   ]
  },
  {
   "cell_type": "markdown",
   "id": "7a4e68eb",
   "metadata": {},
   "source": [
    "We have now created our data frame."
   ]
  },
  {
   "cell_type": "markdown",
   "id": "a54b8240",
   "metadata": {},
   "source": [
    "## Part 2 - NLP\n",
    "### Analyze Review Data\n",
    "Our goal here is to analyze the review data."
   ]
  },
  {
   "cell_type": "code",
   "execution_count": 14,
   "id": "c66f45da",
   "metadata": {},
   "outputs": [],
   "source": [
    "df_nlp = df"
   ]
  },
  {
   "cell_type": "code",
   "execution_count": 15,
   "id": "2bf70bdc",
   "metadata": {},
   "outputs": [],
   "source": [
    "from sklearn.feature_extraction.text import CountVectorizer, ENGLISH_STOP_WORDS"
   ]
  },
  {
   "cell_type": "code",
   "execution_count": 19,
   "id": "27c079e3",
   "metadata": {},
   "outputs": [],
   "source": [
    "text = df_nlp[['review']]"
   ]
  },
  {
   "cell_type": "code",
   "execution_count": 20,
   "id": "b41b9b87",
   "metadata": {},
   "outputs": [
    {
     "data": {
      "text/html": [
       "<div>\n",
       "<style scoped>\n",
       "    .dataframe tbody tr th:only-of-type {\n",
       "        vertical-align: middle;\n",
       "    }\n",
       "\n",
       "    .dataframe tbody tr th {\n",
       "        vertical-align: top;\n",
       "    }\n",
       "\n",
       "    .dataframe thead th {\n",
       "        text-align: right;\n",
       "    }\n",
       "</style>\n",
       "<table border=\"1\" class=\"dataframe\">\n",
       "  <thead>\n",
       "    <tr style=\"text-align: right;\">\n",
       "      <th></th>\n",
       "      <th>review</th>\n",
       "    </tr>\n",
       "  </thead>\n",
       "  <tbody>\n",
       "    <tr>\n",
       "      <th>0</th>\n",
       "      <td>Wow... Loved this place.</td>\n",
       "    </tr>\n",
       "    <tr>\n",
       "      <th>1</th>\n",
       "      <td>Crust is not good.</td>\n",
       "    </tr>\n",
       "    <tr>\n",
       "      <th>2</th>\n",
       "      <td>Not tasty and the texture was just nasty.</td>\n",
       "    </tr>\n",
       "    <tr>\n",
       "      <th>3</th>\n",
       "      <td>Stopped by during the late May bank holiday of...</td>\n",
       "    </tr>\n",
       "    <tr>\n",
       "      <th>4</th>\n",
       "      <td>The selection on the menu was great and so wer...</td>\n",
       "    </tr>\n",
       "  </tbody>\n",
       "</table>\n",
       "</div>"
      ],
      "text/plain": [
       "                                              review\n",
       "0                           Wow... Loved this place.\n",
       "1                                 Crust is not good.\n",
       "2          Not tasty and the texture was just nasty.\n",
       "3  Stopped by during the late May bank holiday of...\n",
       "4  The selection on the menu was great and so wer..."
      ]
     },
     "execution_count": 20,
     "metadata": {},
     "output_type": "execute_result"
    }
   ],
   "source": []
  },
  {
   "cell_type": "code",
   "execution_count": 21,
   "id": "88149623",
   "metadata": {},
   "outputs": [
    {
     "ename": "NameError",
     "evalue": "name 'WordNetLemmatizer' is not defined",
     "output_type": "error",
     "traceback": [
      "\u001b[1;31m---------------------------------------------------------------------------\u001b[0m",
      "\u001b[1;31mNameError\u001b[0m                                 Traceback (most recent call last)",
      "\u001b[1;32m~\\AppData\\Local\\Temp/ipykernel_5092/313473199.py\u001b[0m in \u001b[0;36m<module>\u001b[1;34m\u001b[0m\n\u001b[0;32m      9\u001b[0m \u001b[1;33m\u001b[0m\u001b[0m\n\u001b[0;32m     10\u001b[0m vectorizer = CountVectorizer(max_features=100, max_df=0.95, min_df=0.1, ngram_range=(1,2),\n\u001b[1;32m---> 11\u001b[1;33m                             tokenizer=lemmatizer(), lowercase=True, stop_words='english', token_pattern = r'\\w+')\n\u001b[0m\u001b[0;32m     12\u001b[0m \u001b[1;33m\u001b[0m\u001b[0m\n\u001b[0;32m     13\u001b[0m \u001b[0mvectorizer\u001b[0m\u001b[1;33m.\u001b[0m\u001b[0mfit\u001b[0m\u001b[1;33m(\u001b[0m\u001b[0mtext\u001b[0m\u001b[1;33m[\u001b[0m\u001b[1;34m\"review\"\u001b[0m\u001b[1;33m]\u001b[0m\u001b[1;33m)\u001b[0m\u001b[1;33m\u001b[0m\u001b[1;33m\u001b[0m\u001b[0m\n",
      "\u001b[1;32m~\\AppData\\Local\\Temp/ipykernel_5092/313473199.py\u001b[0m in \u001b[0;36m__init__\u001b[1;34m(self)\u001b[0m\n\u001b[0;32m      4\u001b[0m \u001b[1;32mclass\u001b[0m \u001b[0mlemmatizer\u001b[0m\u001b[1;33m(\u001b[0m\u001b[0mobject\u001b[0m\u001b[1;33m)\u001b[0m\u001b[1;33m:\u001b[0m\u001b[1;33m\u001b[0m\u001b[1;33m\u001b[0m\u001b[0m\n\u001b[0;32m      5\u001b[0m     \u001b[1;32mdef\u001b[0m \u001b[0m__init__\u001b[0m\u001b[1;33m(\u001b[0m\u001b[0mself\u001b[0m\u001b[1;33m)\u001b[0m\u001b[1;33m:\u001b[0m\u001b[1;33m\u001b[0m\u001b[1;33m\u001b[0m\u001b[0m\n\u001b[1;32m----> 6\u001b[1;33m         \u001b[0mself\u001b[0m\u001b[1;33m.\u001b[0m\u001b[0mwnl\u001b[0m \u001b[1;33m=\u001b[0m \u001b[0mWordNetLemmatizer\u001b[0m\u001b[1;33m(\u001b[0m\u001b[1;33m)\u001b[0m\u001b[1;33m\u001b[0m\u001b[1;33m\u001b[0m\u001b[0m\n\u001b[0m\u001b[0;32m      7\u001b[0m     \u001b[1;32mdef\u001b[0m \u001b[0m__call__\u001b[0m\u001b[1;33m(\u001b[0m\u001b[0mself\u001b[0m\u001b[1;33m,\u001b[0m \u001b[0mdf\u001b[0m\u001b[1;33m)\u001b[0m\u001b[1;33m:\u001b[0m\u001b[1;33m\u001b[0m\u001b[1;33m\u001b[0m\u001b[0m\n\u001b[0;32m      8\u001b[0m         \u001b[1;32mreturn\u001b[0m \u001b[1;33m[\u001b[0m\u001b[0mself\u001b[0m\u001b[1;33m.\u001b[0m\u001b[0mwnl\u001b[0m\u001b[1;33m.\u001b[0m\u001b[0mlemmatize\u001b[0m\u001b[1;33m(\u001b[0m\u001b[0mword\u001b[0m\u001b[1;33m)\u001b[0m \u001b[1;32mfor\u001b[0m \u001b[0mword\u001b[0m \u001b[1;32min\u001b[0m \u001b[0mword_tokenize\u001b[0m\u001b[1;33m(\u001b[0m\u001b[0mdf\u001b[0m\u001b[1;33m)\u001b[0m\u001b[1;33m]\u001b[0m\u001b[1;33m\u001b[0m\u001b[1;33m\u001b[0m\u001b[0m\n",
      "\u001b[1;31mNameError\u001b[0m: name 'WordNetLemmatizer' is not defined"
     ]
    }
   ],
   "source": [
    "# Create a dataset based on  just the review column.\n",
    "text = df_nlp[['review']]\n",
    "\n",
    "class lemmatizer(object):\n",
    "    def __init__(self):\n",
    "        self.wnl = WordNetLemmatizer()\n",
    "    def __call__(self, df):\n",
    "        return [self.wnl.lemmatize(word) for word in word_tokenize(df)]\n",
    "    \n",
    "vectorizer = CountVectorizer(max_features=100, max_df=0.95, min_df=0.1, ngram_range=(1,2),\n",
    "                            tokenizer=lemmatizer(), lowercase=True, stop_words='english', token_pattern = r'\\w+')\n",
    "\n",
    "vectorizer.fit(text[\"review\"])\n",
    "count_vector = vectorizer.transform(text[\"review\"])\n",
    "count_vector"
   ]
  },
  {
   "cell_type": "code",
   "execution_count": null,
   "id": "032a872f",
   "metadata": {},
   "outputs": [],
   "source": [
    "# Filter rows with column\n",
    "data = dataset.loc[dataset['Review Text'].notnull(),:]\n",
    "\n",
    "# Apply uni- and bigram vectorizer\n",
    "class lemmatizer(object):\n",
    "    def __init__(self):\n",
    "        self.wnl = WordNetLemmatizer()\n",
    "    def __call__(self, df):\n",
    "        return [self.wnl.lemmatize(word) for word in word_tokenize(df)]\n",
    "\n",
    "vectorizer = CountVectorizer(max_features=100, max_df=0.95, min_df=0.1, ngram_range=(1,2),\n",
    "                             tokenizer=lemmatizer(), lowercase=True, stop_words='english',\n",
    "                             token_pattern = r'\\w+')\n",
    "\n",
    "vectorizer.fit(data['Review Text'])\n",
    "count_vector = vectorizer.transform(data['Review Text'])\n",
    "count_vector"
   ]
  },
  {
   "cell_type": "markdown",
   "id": "44233544",
   "metadata": {},
   "source": [
    "### Rating Prediction\n",
    "The goal here is to take the review data and split it into a training set and a test set. Then we train the training set until we can attempt to predict the test set. We want each review to be either rated as: Good, Fair, or Bad. "
   ]
  },
  {
   "cell_type": "code",
   "execution_count": 13,
   "id": "94f5263c",
   "metadata": {},
   "outputs": [],
   "source": []
  },
  {
   "cell_type": "code",
   "execution_count": null,
   "id": "e5dc2e0a",
   "metadata": {},
   "outputs": [],
   "source": []
  }
 ],
 "metadata": {
  "kernelspec": {
   "display_name": "Python 3 (ipykernel)",
   "language": "python",
   "name": "python3"
  },
  "language_info": {
   "codemirror_mode": {
    "name": "ipython",
    "version": 3
   },
   "file_extension": ".py",
   "mimetype": "text/x-python",
   "name": "python",
   "nbconvert_exporter": "python",
   "pygments_lexer": "ipython3",
   "version": "3.9.7"
  }
 },
 "nbformat": 4,
 "nbformat_minor": 5
}
