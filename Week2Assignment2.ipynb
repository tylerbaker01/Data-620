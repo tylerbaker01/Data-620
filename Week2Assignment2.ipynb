{
 "cells": [
  {
   "cell_type": "markdown",
   "id": "01c64403",
   "metadata": {},
   "source": [
    "# Week 2 Assignment 2\n",
    "## Tyler Baker\n",
    "\n",
    "Your task in this week’s assignment is to identify an interesting set of network data that is available on the web (either through web scraping or web APIs) that could be used for analyzing and comparing centrality measures across nodes.  As an additional constraint, there should be at least one categorical variable available for each node (such as “Male” or “Female”; “Republican”, “Democrat,” or “Undecided”, etc.)\n",
    "\n",
    "In addition to identifying your data source, you should create a high level plan that describes how you would load the data for analysis, and describe a hypothetical outcome that could be predicted from comparing degree centrality across categorical groups. "
   ]
  },
  {
   "cell_type": "markdown",
   "id": "e3d15e5f",
   "metadata": {},
   "source": [
    "## The data\n",
    "\n",
    "I chose to find data related to Game of Thrones. I wanted a list of each character that died and who killed them. This is exactly what https://listofdeaths.fandom.com/wiki/Game_of_Thrones provides."
   ]
  },
  {
   "cell_type": "markdown",
   "id": "524e2ed7",
   "metadata": {},
   "source": [
    "## Plan of Action\n",
    "\n",
    "First I would want to make a list of all the characters in GOT. Then I could add the gender of each character, the faction of each character, or even what season they were introduced or killed off. These would be the possible categorical variables for the nodes. Next, I would take my list of characters and I would add a column to for each character they killed. Once that is finished, I would pivot my df longer. This would create an adjacency matrix. Now that I have my adjacency matrix, I could easily turn it into a directed graph. Finally, I would run centrality measurements. \n",
    "\n",
    "## Predictions\n",
    "degree centrality: I predict that Cersei, or Denaryus had the highest kill count. This is what degree centrality would represent. We could even possible make it to only count out directed edges. If we summed up directed edges by the characters faction I would guess that the Lannisters killed the most. If we summed up directed edges by the characters gender I would guess that women killed more than male characters.\n",
    "\n",
    "## Final Thoughts\n",
    "This sounds like it would be an incredibly fun and interesting project to work on."
   ]
  }
 ],
 "metadata": {
  "kernelspec": {
   "display_name": "Python 3 (ipykernel)",
   "language": "python",
   "name": "python3"
  },
  "language_info": {
   "codemirror_mode": {
    "name": "ipython",
    "version": 3
   },
   "file_extension": ".py",
   "mimetype": "text/x-python",
   "name": "python",
   "nbconvert_exporter": "python",
   "pygments_lexer": "ipython3",
   "version": "3.9.7"
  }
 },
 "nbformat": 4,
 "nbformat_minor": 5
}
