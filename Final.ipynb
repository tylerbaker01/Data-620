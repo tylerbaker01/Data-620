{
 "cells": [
  {
   "cell_type": "markdown",
   "id": "8126c6df",
   "metadata": {},
   "source": [
    "# Final Project\n",
    "## Tyler Baker and Rathish Parayil Sasidharan\n",
    "\n",
    "Your project should incorporate one or both of the two main themes of this course: network analysis and text processing. You need to show all of your work in a coherent workflow, and in a reproducible format, such as an IPython Notebook or an R Markdown document. If you are building a model or models, explain how you evaluate the “goodness” of the chosen model and parameters."
   ]
  },
  {
   "cell_type": "markdown",
   "id": "9cf485df",
   "metadata": {},
   "source": [
    "## Introduction\n",
    "\n",
    "\n",
    "### Setting the Environment"
   ]
  },
  {
   "cell_type": "code",
   "execution_count": 1,
   "id": "784730ee",
   "metadata": {},
   "outputs": [],
   "source": [
    "import pandas as pd\n",
    "import numpy as np\n",
    "import networkx as nx\n",
    "import nltk\n",
    "import random\n",
    "import networkx.algorithms.bipartite as bipartite\n",
    "import matplotlib.pyplot as plt\n",
    "import re\n",
    "import string\n",
    "import math\n",
    "import collections"
   ]
  },
  {
   "cell_type": "markdown",
   "id": "b32163d9",
   "metadata": {},
   "source": [
    "### The Data\n",
    "We got our data from <a href=\"https://www.kaggle.com/datasets/omkarsabnis/yelp-reviews-dataset?resource=download\">Kaggle</a>."
   ]
  },
  {
   "cell_type": "code",
   "execution_count": 5,
   "id": "5ffd33f7",
   "metadata": {},
   "outputs": [],
   "source": [
    "data_raw = pd.read_csv(\"https://raw.githubusercontent.com/tylerbaker01/Data-620/main/yelp.csv\")"
   ]
  },
  {
   "cell_type": "markdown",
   "id": "3866e5df",
   "metadata": {},
   "source": [
    "### Part 1 SNA"
   ]
  },
  {
   "cell_type": "code",
   "execution_count": null,
   "id": "4f33efd8",
   "metadata": {},
   "outputs": [],
   "source": []
  },
  {
   "cell_type": "code",
   "execution_count": null,
   "id": "fc724672",
   "metadata": {},
   "outputs": [],
   "source": []
  },
  {
   "cell_type": "markdown",
   "id": "1254cf7b",
   "metadata": {},
   "source": [
    "## Part 2 - NLP\n",
    "### Analyze Review Data\n",
    "Our goal here is to analyze the review data.\n",
    "#### Handling the Data"
   ]
  },
  {
   "cell_type": "code",
   "execution_count": 101,
   "id": "f483a671",
   "metadata": {},
   "outputs": [],
   "source": [
    "data_text = data_raw[[\"stars\",\"text\"]]"
   ]
  },
  {
   "cell_type": "code",
   "execution_count": 102,
   "id": "d0ca5d2f",
   "metadata": {},
   "outputs": [],
   "source": [
    "from sklearn.feature_extraction.text import CountVectorizer, ENGLISH_STOP_WORDS"
   ]
  },
  {
   "cell_type": "code",
   "execution_count": 104,
   "id": "05b8fd2b",
   "metadata": {},
   "outputs": [
    {
     "name": "stderr",
     "output_type": "stream",
     "text": [
      "C:\\Users\\tyler\\AppData\\Local\\Temp/ipykernel_2352/1346431695.py:46: SettingWithCopyWarning: \n",
      "A value is trying to be set on a copy of a slice from a DataFrame.\n",
      "Try using .loc[row_indexer,col_indexer] = value instead\n",
      "\n",
      "See the caveats in the documentation: https://pandas.pydata.org/pandas-docs/stable/user_guide/indexing.html#returning-a-view-versus-a-copy\n",
      "  data_text['text']=data_text['text'].apply(lambda x:expand_contractions(x))\n"
     ]
    }
   ],
   "source": [
    "# First we will remove contractions.\n",
    "contractions_dict = { \"ain't\": \"are not\",\"'s\":\" is\",\"aren't\": \"are not\",\n",
    "                     \"can't\": \"cannot\",\"can't've\": \"cannot have\",\n",
    "                     \"'cause\": \"because\",\"could've\": \"could have\",\"couldn't\": \"could not\",\n",
    "                     \"couldn't've\": \"could not have\", \"didn't\": \"did not\",\"doesn't\": \"does not\",\n",
    "                     \"don't\": \"do not\",\"hadn't\": \"had not\",\"hadn't've\": \"had not have\",\n",
    "                     \"hasn't\": \"has not\",\"haven't\": \"have not\",\"he'd\": \"he would\",\n",
    "                     \"he'd've\": \"he would have\",\"he'll\": \"he will\", \"he'll've\": \"he will have\",\n",
    "                     \"how'd\": \"how did\",\"how'd'y\": \"how do you\",\"how'll\": \"how will\",\n",
    "                     \"I'd\": \"I would\", \"I'd've\": \"I would have\",\"I'll\": \"I will\",\n",
    "                     \"I'll've\": \"I will have\",\"I'm\": \"I am\",\"I've\": \"I have\", \"isn't\": \"is not\",\n",
    "                     \"it'd\": \"it would\",\"it'd've\": \"it would have\",\"it'll\": \"it will\",\n",
    "                     \"it'll've\": \"it will have\", \"let's\": \"let us\",\"ma'am\": \"madam\",\n",
    "                     \"mayn't\": \"may not\",\"might've\": \"might have\",\"mightn't\": \"might not\", \n",
    "                     \"mightn't've\": \"might not have\",\"must've\": \"must have\",\"mustn't\": \"must not\",\n",
    "                     \"mustn't've\": \"must not have\", \"needn't\": \"need not\",\n",
    "                     \"needn't've\": \"need not have\",\"o'clock\": \"of the clock\",\"oughtn't\": \"ought not\",\n",
    "                     \"oughtn't've\": \"ought not have\",\"shan't\": \"shall not\",\"sha'n't\": \"shall not\",\n",
    "                     \"shan't've\": \"shall not have\",\"she'd\": \"she would\",\"she'd've\": \"she would have\",\n",
    "                     \"she'll\": \"she will\", \"she'll've\": \"she will have\",\"should've\": \"should have\",\n",
    "                     \"shouldn't\": \"should not\", \"shouldn't've\": \"should not have\",\"so've\": \"so have\",\n",
    "                     \"that'd\": \"that would\",\"that'd've\": \"that would have\", \"there'd\": \"there would\",\n",
    "                     \"there'd've\": \"there would have\", \"they'd\": \"they would\",\n",
    "                     \"they'd've\": \"they would have\",\"they'll\": \"they will\",\n",
    "                     \"they'll've\": \"they will have\", \"they're\": \"they are\",\"they've\": \"they have\",\n",
    "                     \"to've\": \"to have\",\"wasn't\": \"was not\",\"we'd\": \"we would\",\n",
    "                     \"we'd've\": \"we would have\",\"we'll\": \"we will\",\"we'll've\": \"we will have\",\n",
    "                     \"we're\": \"we are\",\"we've\": \"we have\", \"weren't\": \"were not\",\"what'll\": \"what will\",\n",
    "                     \"what'll've\": \"what will have\",\"what're\": \"what are\", \"what've\": \"what have\",\n",
    "                     \"when've\": \"when have\",\"where'd\": \"where did\", \"where've\": \"where have\",\n",
    "                     \"who'll\": \"who will\",\"who'll've\": \"who will have\",\"who've\": \"who have\",\n",
    "                     \"why've\": \"why have\",\"will've\": \"will have\",\"won't\": \"will not\",\n",
    "                     \"won't've\": \"will not have\", \"would've\": \"would have\",\"wouldn't\": \"would not\",\n",
    "                     \"wouldn't've\": \"would not have\",\"y'all\": \"you all\", \"y'all'd\": \"you all would\",\n",
    "                     \"y'all'd've\": \"you all would have\",\"y'all're\": \"you all are\",\n",
    "                     \"y'all've\": \"you all have\", \"you'd\": \"you would\",\"you'd've\": \"you would have\",\n",
    "                     \"you'll\": \"you will\",\"you'll've\": \"you will have\", \"you're\": \"you are\",\n",
    "                     \"you've\": \"you have\"}\n",
    "contractions_re=re.compile('(%s)' % '|'.join(contractions_dict.keys()))\n",
    "\n",
    "def expand_contractions(text,contractions_dict=contractions_dict):\n",
    "    def replace(match):\n",
    "        return contractions_dict[match.group(0)]\n",
    "    return contractions_re.sub(replace, text)\n",
    "\n",
    "data_text['text']=data_text['text'].apply(lambda x:expand_contractions(x))"
   ]
  },
  {
   "cell_type": "code",
   "execution_count": 105,
   "id": "98502b82",
   "metadata": {},
   "outputs": [
    {
     "name": "stderr",
     "output_type": "stream",
     "text": [
      "C:\\Users\\tyler\\AppData\\Local\\Temp/ipykernel_2352/4101854238.py:2: SettingWithCopyWarning: \n",
      "A value is trying to be set on a copy of a slice from a DataFrame.\n",
      "Try using .loc[row_indexer,col_indexer] = value instead\n",
      "\n",
      "See the caveats in the documentation: https://pandas.pydata.org/pandas-docs/stable/user_guide/indexing.html#returning-a-view-versus-a-copy\n",
      "  data_text['text']=data_text['text'].apply(lambda x: x.lower())\n"
     ]
    }
   ],
   "source": [
    "# Now we will turn every word into lowercase.\n",
    "data_text['text']=data_text['text'].apply(lambda x: x.lower())"
   ]
  },
  {
   "cell_type": "code",
   "execution_count": 106,
   "id": "541225ea",
   "metadata": {},
   "outputs": [
    {
     "name": "stderr",
     "output_type": "stream",
     "text": [
      "C:\\Users\\tyler\\AppData\\Local\\Temp/ipykernel_2352/3905788461.py:2: SettingWithCopyWarning: \n",
      "A value is trying to be set on a copy of a slice from a DataFrame.\n",
      "Try using .loc[row_indexer,col_indexer] = value instead\n",
      "\n",
      "See the caveats in the documentation: https://pandas.pydata.org/pandas-docs/stable/user_guide/indexing.html#returning-a-view-versus-a-copy\n",
      "  data_text['text']=data_text['text'].apply(lambda x: re.sub('[%s]' % re.escape(string.punctuation), '', x))\n"
     ]
    }
   ],
   "source": [
    "# Now we will remove punctuations.\n",
    "data_text['text']=data_text['text'].apply(lambda x: re.sub('[%s]' % re.escape(string.punctuation), '', x))"
   ]
  },
  {
   "cell_type": "code",
   "execution_count": 107,
   "id": "2e482449",
   "metadata": {},
   "outputs": [
    {
     "name": "stderr",
     "output_type": "stream",
     "text": [
      "C:\\Users\\tyler\\AppData\\Local\\Temp/ipykernel_2352/1490936255.py:2: SettingWithCopyWarning: \n",
      "A value is trying to be set on a copy of a slice from a DataFrame.\n",
      "Try using .loc[row_indexer,col_indexer] = value instead\n",
      "\n",
      "See the caveats in the documentation: https://pandas.pydata.org/pandas-docs/stable/user_guide/indexing.html#returning-a-view-versus-a-copy\n",
      "  data_text['text']=data_text['text'].apply(lambda x: re.sub('\\w*\\d\\w*','', x))\n"
     ]
    }
   ],
   "source": [
    "# Finally, we will remove numerals.\n",
    "data_text['text']=data_text['text'].apply(lambda x: re.sub('\\w*\\d\\w*','', x))"
   ]
  },
  {
   "cell_type": "code",
   "execution_count": 108,
   "id": "685f736f",
   "metadata": {},
   "outputs": [],
   "source": [
    "text = data_text[['text']].values.tolist()"
   ]
  },
  {
   "cell_type": "code",
   "execution_count": 109,
   "id": "e91b6dfd",
   "metadata": {},
   "outputs": [],
   "source": [
    "# flatten text\n",
    "f_text = []\n",
    "for i in text:\n",
    "    for j in i:\n",
    "        f_text.append(j)"
   ]
  },
  {
   "cell_type": "code",
   "execution_count": 110,
   "id": "2544a2a2",
   "metadata": {},
   "outputs": [],
   "source": [
    "ft = ' '.join(f_text)"
   ]
  },
  {
   "cell_type": "code",
   "execution_count": 111,
   "id": "71b97807",
   "metadata": {},
   "outputs": [],
   "source": [
    "from nltk.tokenize import sent_tokenize, word_tokenize"
   ]
  },
  {
   "cell_type": "code",
   "execution_count": 112,
   "id": "1d197d3f",
   "metadata": {},
   "outputs": [],
   "source": [
    "# Make a list of all of the words\n",
    "words = word_tokenize(ft)"
   ]
  },
  {
   "cell_type": "code",
   "execution_count": 113,
   "id": "8b16c88c",
   "metadata": {},
   "outputs": [
    {
     "data": {
      "text/plain": [
       "['my',\n",
       " 'wife',\n",
       " 'took',\n",
       " 'me',\n",
       " 'here',\n",
       " 'on',\n",
       " 'my',\n",
       " 'birthday',\n",
       " 'for',\n",
       " 'breakfast']"
      ]
     },
     "execution_count": 113,
     "metadata": {},
     "output_type": "execute_result"
    }
   ],
   "source": [
    "words[0:10]"
   ]
  },
  {
   "cell_type": "markdown",
   "id": "5129c755",
   "metadata": {},
   "source": [
    "Next we will remove stop words."
   ]
  },
  {
   "cell_type": "code",
   "execution_count": 114,
   "id": "5ea572bf",
   "metadata": {},
   "outputs": [],
   "source": [
    "from nltk.corpus import stopwords"
   ]
  },
  {
   "cell_type": "code",
   "execution_count": 115,
   "id": "75543e34",
   "metadata": {},
   "outputs": [],
   "source": [
    "stop_words = set(stopwords.words('english'))"
   ]
  },
  {
   "cell_type": "code",
   "execution_count": 116,
   "id": "3a4c5118",
   "metadata": {},
   "outputs": [],
   "source": [
    "filtered_list = []\n",
    "\n",
    "# store all of the non stop words.\n",
    "for word in words:\n",
    "    if word.casefold() not in stop_words:\n",
    "        filtered_list.append(word)"
   ]
  },
  {
   "cell_type": "code",
   "execution_count": 117,
   "id": "cf437fc8",
   "metadata": {},
   "outputs": [
    {
     "data": {
      "text/plain": [
       "['wife',\n",
       " 'took',\n",
       " 'birthday',\n",
       " 'breakfast',\n",
       " 'excellent',\n",
       " 'weather',\n",
       " 'perfect',\n",
       " 'made',\n",
       " 'sitting',\n",
       " 'outside']"
      ]
     },
     "execution_count": 117,
     "metadata": {},
     "output_type": "execute_result"
    }
   ],
   "source": [
    "filtered_list[0:10]"
   ]
  },
  {
   "cell_type": "markdown",
   "id": "39a337b6",
   "metadata": {},
   "source": [
    "Now we will remove these words to their root words."
   ]
  },
  {
   "cell_type": "code",
   "execution_count": 118,
   "id": "31418868",
   "metadata": {},
   "outputs": [],
   "source": [
    "from nltk.stem import WordNetLemmatizer\n",
    "lemmatizer = WordNetLemmatizer()"
   ]
  },
  {
   "cell_type": "code",
   "execution_count": 119,
   "id": "a9a35971",
   "metadata": {},
   "outputs": [],
   "source": [
    "lemmas = []\n",
    "for w in filtered_list:\n",
    "    lemmas.append(lemmatizer.lemmatize(w))"
   ]
  },
  {
   "cell_type": "code",
   "execution_count": 120,
   "id": "d2dd00e4",
   "metadata": {},
   "outputs": [
    {
     "data": {
      "text/plain": [
       "['wife',\n",
       " 'took',\n",
       " 'birthday',\n",
       " 'breakfast',\n",
       " 'excellent',\n",
       " 'weather',\n",
       " 'perfect',\n",
       " 'made',\n",
       " 'sitting',\n",
       " 'outside']"
      ]
     },
     "execution_count": 120,
     "metadata": {},
     "output_type": "execute_result"
    }
   ],
   "source": [
    "lemmas[0:10]"
   ]
  },
  {
   "cell_type": "markdown",
   "id": "a64aab37",
   "metadata": {},
   "source": [
    "#### Analyzing\n",
    "Now that we have broken our original text down to the lemmas, we are ready to do some analysis."
   ]
  },
  {
   "cell_type": "code",
   "execution_count": 121,
   "id": "e79be047",
   "metadata": {},
   "outputs": [],
   "source": [
    "# Tokens\n",
    "from nltk import FreqDist\n",
    "freq = FreqDist(lemmas)"
   ]
  },
  {
   "cell_type": "code",
   "execution_count": 122,
   "id": "f3c34d43",
   "metadata": {},
   "outputs": [
    {
     "data": {
      "text/plain": [
       "[('place', 7370),\n",
       " ('good', 6768),\n",
       " ('food', 6261),\n",
       " ('great', 5067),\n",
       " ('like', 5039),\n",
       " ('time', 4534),\n",
       " ('would', 4288),\n",
       " ('one', 4267),\n",
       " ('get', 4118),\n",
       " ('go', 3620),\n",
       " ('really', 3348),\n",
       " ('service', 3180),\n",
       " ('back', 2866),\n",
       " ('also', 2507),\n",
       " ('love', 2355),\n",
       " ('little', 2216),\n",
       " ('nice', 2207),\n",
       " ('restaurant', 2177),\n",
       " ('well', 2103),\n",
       " ('make', 2017)]"
      ]
     },
     "execution_count": 122,
     "metadata": {},
     "output_type": "execute_result"
    }
   ],
   "source": [
    "freq.most_common(20)"
   ]
  },
  {
   "cell_type": "code",
   "execution_count": 123,
   "id": "2b2b4f2d",
   "metadata": {},
   "outputs": [],
   "source": [
    "# Bigrams\n",
    "bigrams = nltk.bigrams(lemmas)\n",
    "bigram_freq = FreqDist(bigrams)"
   ]
  },
  {
   "cell_type": "code",
   "execution_count": 124,
   "id": "bb7fd928",
   "metadata": {},
   "outputs": [],
   "source": [
    "# Trigrams\n",
    "trigrams = nltk.trigrams(lemmas)\n",
    "trigram_freq = FreqDist(trigrams)"
   ]
  },
  {
   "cell_type": "markdown",
   "id": "c181cced",
   "metadata": {},
   "source": [
    "#### Visualizations"
   ]
  },
  {
   "cell_type": "code",
   "execution_count": 125,
   "id": "3ce994e1",
   "metadata": {},
   "outputs": [
    {
     "data": {
      "image/png": "[encoded data removed]",
      "text/plain": [
       "<Figure size 432x288 with 1 Axes>"
      ]
     },
     "metadata": {
      "needs_background": "light"
     },
     "output_type": "display_data"
    },
    {
     "data": {
      "text/plain": [
       "<AxesSubplot:xlabel='Samples', ylabel='Counts'>"
      ]
     },
     "execution_count": 125,
     "metadata": {},
     "output_type": "execute_result"
    }
   ],
   "source": [
    "# Tokens frequency plot\n",
    "freq.plot(35)"
   ]
  },
  {
   "cell_type": "code",
   "execution_count": 126,
   "id": "c7d07449",
   "metadata": {},
   "outputs": [
    {
     "data": {
      "image/png": "[encoded data removed]",
      "text/plain": [
       "<Figure size 432x288 with 1 Axes>"
      ]
     },
     "metadata": {
      "needs_background": "light"
     },
     "output_type": "display_data"
    },
    {
     "data": {
      "text/plain": [
       "<AxesSubplot:xlabel='Samples', ylabel='Counts'>"
      ]
     },
     "execution_count": 126,
     "metadata": {},
     "output_type": "execute_result"
    }
   ],
   "source": [
    "# Bigrams frequency plot\n",
    "bigram_freq.plot(35)"
   ]
  },
  {
   "cell_type": "code",
   "execution_count": 127,
   "id": "cb1d3e37",
   "metadata": {},
   "outputs": [
    {
     "data": {
      "image/png": "[encoded data removed]",
      "text/plain": [
       "<Figure size 432x288 with 1 Axes>"
      ]
     },
     "metadata": {
      "needs_background": "light"
     },
     "output_type": "display_data"
    },
    {
     "data": {
      "text/plain": [
       "<AxesSubplot:xlabel='Samples', ylabel='Counts'>"
      ]
     },
     "execution_count": 127,
     "metadata": {},
     "output_type": "execute_result"
    }
   ],
   "source": [
    "# Trigrams frequency plot\n",
    "trigram_freq.plot(35)"
   ]
  },
  {
   "cell_type": "markdown",
   "id": "a43746ab",
   "metadata": {},
   "source": [
    "### Rating Prediction\n",
    "The goal here is to take the review data and split it into a training set and a test set. Then we train the training set until we can attempt to predict the test set. We want each review to be either rated as: 1, 2, 3, 4, or 5."
   ]
  },
  {
   "cell_type": "markdown",
   "id": "b5a3d68a",
   "metadata": {},
   "source": [
    "We will make three sets. A test_set of 1000 reviews, a dev_test set of 1000 reviews, and a train_set of 8000 reviews."
   ]
  },
  {
   "cell_type": "markdown",
   "id": "7f029736",
   "metadata": {},
   "source": [
    "#### The Data\n",
    "We will use the data from the beginning but we only need the reviews and the score."
   ]
  },
  {
   "cell_type": "code",
   "execution_count": 132,
   "id": "2307c7f7",
   "metadata": {},
   "outputs": [],
   "source": [
    "data_text = data_text[[\"text\", \"stars\"]]"
   ]
  },
  {
   "cell_type": "code",
   "execution_count": 133,
   "id": "38e74587",
   "metadata": {},
   "outputs": [],
   "source": [
    "dt_list = data_text.values.tolist()"
   ]
  },
  {
   "cell_type": "markdown",
   "id": "949284ee",
   "metadata": {},
   "source": [
    "#### Creating the Simulation\n",
    "This will be done very much like project 3."
   ]
  },
  {
   "cell_type": "code",
   "execution_count": 134,
   "id": "b1cb39f7",
   "metadata": {},
   "outputs": [],
   "source": [
    "def accuracy(number_of_runs, function):\n",
    "    accuracy_df = {\n",
    "        \"classifier\": [],\n",
    "        \"train_set_acc\": [],\n",
    "        \"dev_set_acc\": [],\n",
    "        \"test_acc\": []\n",
    "    }\n",
    "    for i in range(number_of_runs):\n",
    "        random.shuffle(dt_list)\n",
    "        dev_name_set = dt_list[0:1000]\n",
    "        test_name_set = dt_list[1000:2000]\n",
    "        train_name_set = dt_list[2000:]\n",
    "        dev_set = [(function(n), i) for (n, i) in dev_name_set]\n",
    "        test_set = [(function(n), i) for (n, i) in test_name_set]\n",
    "        train_set = [(function(n), i) for (n, i) in train_name_set]\n",
    "        classifier = nltk.NaiveBayesClassifier.train(train_set)\n",
    "        accuracy_df[\"classifier\"].append(classifier)\n",
    "        accuracy_df[\"train_set_acc\"].append(nltk.classify.accuracy(classifier, train_set))\n",
    "        accuracy_df[\"dev_set_acc\"].append(nltk.classify.accuracy(classifier, dev_set))\n",
    "        accuracy_df[\"test_acc\"].append(nltk.classify.accuracy(classifier, test_set))\n",
    "    accuracy_df = pd.DataFrame.from_dict(accuracy_df)\n",
    "    return(accuracy_df)"
   ]
  },
  {
   "cell_type": "markdown",
   "id": "017d0f8c",
   "metadata": {},
   "source": [
    "#### Creating Features\n",
    "Now we can create features which classify the text based on certain conditions."
   ]
  },
  {
   "cell_type": "code",
   "execution_count": 135,
   "id": "8e522b09",
   "metadata": {},
   "outputs": [],
   "source": [
    "# Length of Review. Total characters.\n",
    "def length_of_review(text):\n",
    "    return {\"length\": len(text)}"
   ]
  },
  {
   "cell_type": "code",
   "execution_count": 136,
   "id": "180aaf1a",
   "metadata": {},
   "outputs": [],
   "source": [
    "char_amount_df = accuracy(100, length_of_review)"
   ]
  },
  {
   "cell_type": "code",
   "execution_count": 137,
   "id": "6b915998",
   "metadata": {},
   "outputs": [
    {
     "data": {
      "text/html": [
       "<div>\n",
       "<style scoped>\n",
       "    .dataframe tbody tr th:only-of-type {\n",
       "        vertical-align: middle;\n",
       "    }\n",
       "\n",
       "    .dataframe tbody tr th {\n",
       "        vertical-align: top;\n",
       "    }\n",
       "\n",
       "    .dataframe thead th {\n",
       "        text-align: right;\n",
       "    }\n",
       "</style>\n",
       "<table border=\"1\" class=\"dataframe\">\n",
       "  <thead>\n",
       "    <tr style=\"text-align: right;\">\n",
       "      <th></th>\n",
       "      <th>train_set_acc</th>\n",
       "      <th>dev_set_acc</th>\n",
       "      <th>test_acc</th>\n",
       "    </tr>\n",
       "  </thead>\n",
       "  <tbody>\n",
       "    <tr>\n",
       "      <th>count</th>\n",
       "      <td>100.000000</td>\n",
       "      <td>100.000000</td>\n",
       "      <td>100.000000</td>\n",
       "    </tr>\n",
       "    <tr>\n",
       "      <th>mean</th>\n",
       "      <td>0.541526</td>\n",
       "      <td>0.342590</td>\n",
       "      <td>0.341830</td>\n",
       "    </tr>\n",
       "    <tr>\n",
       "      <th>std</th>\n",
       "      <td>0.001889</td>\n",
       "      <td>0.011909</td>\n",
       "      <td>0.013694</td>\n",
       "    </tr>\n",
       "    <tr>\n",
       "      <th>min</th>\n",
       "      <td>0.537000</td>\n",
       "      <td>0.312000</td>\n",
       "      <td>0.297000</td>\n",
       "    </tr>\n",
       "    <tr>\n",
       "      <th>25%</th>\n",
       "      <td>0.540250</td>\n",
       "      <td>0.334750</td>\n",
       "      <td>0.333000</td>\n",
       "    </tr>\n",
       "    <tr>\n",
       "      <th>50%</th>\n",
       "      <td>0.541562</td>\n",
       "      <td>0.343000</td>\n",
       "      <td>0.343500</td>\n",
       "    </tr>\n",
       "    <tr>\n",
       "      <th>75%</th>\n",
       "      <td>0.543031</td>\n",
       "      <td>0.349000</td>\n",
       "      <td>0.352000</td>\n",
       "    </tr>\n",
       "    <tr>\n",
       "      <th>max</th>\n",
       "      <td>0.545000</td>\n",
       "      <td>0.375000</td>\n",
       "      <td>0.373000</td>\n",
       "    </tr>\n",
       "  </tbody>\n",
       "</table>\n",
       "</div>"
      ],
      "text/plain": [
       "       train_set_acc  dev_set_acc    test_acc\n",
       "count     100.000000   100.000000  100.000000\n",
       "mean        0.541526     0.342590    0.341830\n",
       "std         0.001889     0.011909    0.013694\n",
       "min         0.537000     0.312000    0.297000\n",
       "25%         0.540250     0.334750    0.333000\n",
       "50%         0.541562     0.343000    0.343500\n",
       "75%         0.543031     0.349000    0.352000\n",
       "max         0.545000     0.375000    0.373000"
      ]
     },
     "execution_count": 137,
     "metadata": {},
     "output_type": "execute_result"
    }
   ],
   "source": [
    "char_amount_df.describe()"
   ]
  },
  {
   "cell_type": "code",
   "execution_count": 138,
   "id": "26e990a5",
   "metadata": {},
   "outputs": [],
   "source": [
    "# The amount of words in a review.\n",
    "def words_in_review(text):\n",
    "    return {\"length\": len(text.split())}"
   ]
  },
  {
   "cell_type": "code",
   "execution_count": 139,
   "id": "034eb6a8",
   "metadata": {},
   "outputs": [],
   "source": [
    "word_amount_df = accuracy(100, words_in_review)"
   ]
  },
  {
   "cell_type": "code",
   "execution_count": 140,
   "id": "1a824e70",
   "metadata": {},
   "outputs": [
    {
     "data": {
      "text/html": [
       "<div>\n",
       "<style scoped>\n",
       "    .dataframe tbody tr th:only-of-type {\n",
       "        vertical-align: middle;\n",
       "    }\n",
       "\n",
       "    .dataframe tbody tr th {\n",
       "        vertical-align: top;\n",
       "    }\n",
       "\n",
       "    .dataframe thead th {\n",
       "        text-align: right;\n",
       "    }\n",
       "</style>\n",
       "<table border=\"1\" class=\"dataframe\">\n",
       "  <thead>\n",
       "    <tr style=\"text-align: right;\">\n",
       "      <th></th>\n",
       "      <th>train_set_acc</th>\n",
       "      <th>dev_set_acc</th>\n",
       "      <th>test_acc</th>\n",
       "    </tr>\n",
       "  </thead>\n",
       "  <tbody>\n",
       "    <tr>\n",
       "      <th>count</th>\n",
       "      <td>100.000000</td>\n",
       "      <td>100.000000</td>\n",
       "      <td>100.000000</td>\n",
       "    </tr>\n",
       "    <tr>\n",
       "      <th>mean</th>\n",
       "      <td>0.433464</td>\n",
       "      <td>0.349850</td>\n",
       "      <td>0.353760</td>\n",
       "    </tr>\n",
       "    <tr>\n",
       "      <th>std</th>\n",
       "      <td>0.002358</td>\n",
       "      <td>0.015064</td>\n",
       "      <td>0.013039</td>\n",
       "    </tr>\n",
       "    <tr>\n",
       "      <th>min</th>\n",
       "      <td>0.426625</td>\n",
       "      <td>0.319000</td>\n",
       "      <td>0.321000</td>\n",
       "    </tr>\n",
       "    <tr>\n",
       "      <th>25%</th>\n",
       "      <td>0.431969</td>\n",
       "      <td>0.341000</td>\n",
       "      <td>0.345000</td>\n",
       "    </tr>\n",
       "    <tr>\n",
       "      <th>50%</th>\n",
       "      <td>0.433688</td>\n",
       "      <td>0.350000</td>\n",
       "      <td>0.355000</td>\n",
       "    </tr>\n",
       "    <tr>\n",
       "      <th>75%</th>\n",
       "      <td>0.435000</td>\n",
       "      <td>0.358500</td>\n",
       "      <td>0.361000</td>\n",
       "    </tr>\n",
       "    <tr>\n",
       "      <th>max</th>\n",
       "      <td>0.439250</td>\n",
       "      <td>0.395000</td>\n",
       "      <td>0.390000</td>\n",
       "    </tr>\n",
       "  </tbody>\n",
       "</table>\n",
       "</div>"
      ],
      "text/plain": [
       "       train_set_acc  dev_set_acc    test_acc\n",
       "count     100.000000   100.000000  100.000000\n",
       "mean        0.433464     0.349850    0.353760\n",
       "std         0.002358     0.015064    0.013039\n",
       "min         0.426625     0.319000    0.321000\n",
       "25%         0.431969     0.341000    0.345000\n",
       "50%         0.433688     0.350000    0.355000\n",
       "75%         0.435000     0.358500    0.361000\n",
       "max         0.439250     0.395000    0.390000"
      ]
     },
     "execution_count": 140,
     "metadata": {},
     "output_type": "execute_result"
    }
   ],
   "source": [
    "word_amount_df.describe()"
   ]
  },
  {
   "cell_type": "code",
   "execution_count": 141,
   "id": "aa8d2ba3",
   "metadata": {},
   "outputs": [],
   "source": [
    "# If the letters \"b\" and \"g\" are in the review.\n",
    "def b_n_g(review):\n",
    "    return {\"b_and_g\": bool(re.match('^[bg]+$', review))}"
   ]
  },
  {
   "cell_type": "code",
   "execution_count": 142,
   "id": "1ac5869a",
   "metadata": {},
   "outputs": [],
   "source": [
    "b_n_g_df = accuracy(100, b_n_g)"
   ]
  },
  {
   "cell_type": "code",
   "execution_count": 143,
   "id": "d11fd3ff",
   "metadata": {},
   "outputs": [
    {
     "data": {
      "text/html": [
       "<div>\n",
       "<style scoped>\n",
       "    .dataframe tbody tr th:only-of-type {\n",
       "        vertical-align: middle;\n",
       "    }\n",
       "\n",
       "    .dataframe tbody tr th {\n",
       "        vertical-align: top;\n",
       "    }\n",
       "\n",
       "    .dataframe thead th {\n",
       "        text-align: right;\n",
       "    }\n",
       "</style>\n",
       "<table border=\"1\" class=\"dataframe\">\n",
       "  <thead>\n",
       "    <tr style=\"text-align: right;\">\n",
       "      <th></th>\n",
       "      <th>train_set_acc</th>\n",
       "      <th>dev_set_acc</th>\n",
       "      <th>test_acc</th>\n",
       "    </tr>\n",
       "  </thead>\n",
       "  <tbody>\n",
       "    <tr>\n",
       "      <th>count</th>\n",
       "      <td>100.000000</td>\n",
       "      <td>100.000000</td>\n",
       "      <td>100.000000</td>\n",
       "    </tr>\n",
       "    <tr>\n",
       "      <th>mean</th>\n",
       "      <td>0.352759</td>\n",
       "      <td>0.352980</td>\n",
       "      <td>0.350950</td>\n",
       "    </tr>\n",
       "    <tr>\n",
       "      <th>std</th>\n",
       "      <td>0.002160</td>\n",
       "      <td>0.013949</td>\n",
       "      <td>0.014104</td>\n",
       "    </tr>\n",
       "    <tr>\n",
       "      <th>min</th>\n",
       "      <td>0.346500</td>\n",
       "      <td>0.317000</td>\n",
       "      <td>0.312000</td>\n",
       "    </tr>\n",
       "    <tr>\n",
       "      <th>25%</th>\n",
       "      <td>0.351375</td>\n",
       "      <td>0.343750</td>\n",
       "      <td>0.340750</td>\n",
       "    </tr>\n",
       "    <tr>\n",
       "      <th>50%</th>\n",
       "      <td>0.352375</td>\n",
       "      <td>0.355500</td>\n",
       "      <td>0.352000</td>\n",
       "    </tr>\n",
       "    <tr>\n",
       "      <th>75%</th>\n",
       "      <td>0.354156</td>\n",
       "      <td>0.362250</td>\n",
       "      <td>0.360000</td>\n",
       "    </tr>\n",
       "    <tr>\n",
       "      <th>max</th>\n",
       "      <td>0.358250</td>\n",
       "      <td>0.382000</td>\n",
       "      <td>0.387000</td>\n",
       "    </tr>\n",
       "  </tbody>\n",
       "</table>\n",
       "</div>"
      ],
      "text/plain": [
       "       train_set_acc  dev_set_acc    test_acc\n",
       "count     100.000000   100.000000  100.000000\n",
       "mean        0.352759     0.352980    0.350950\n",
       "std         0.002160     0.013949    0.014104\n",
       "min         0.346500     0.317000    0.312000\n",
       "25%         0.351375     0.343750    0.340750\n",
       "50%         0.352375     0.355500    0.352000\n",
       "75%         0.354156     0.362250    0.360000\n",
       "max         0.358250     0.382000    0.387000"
      ]
     },
     "execution_count": 143,
     "metadata": {},
     "output_type": "execute_result"
    }
   ],
   "source": [
    "b_n_g_df.describe()"
   ]
  },
  {
   "cell_type": "code",
   "execution_count": 144,
   "id": "926f4a86",
   "metadata": {},
   "outputs": [],
   "source": [
    "# Amount of words and amount of characters\n",
    "def amounts(review):\n",
    "    return {\"char_len\": len(review), \"word_amount\": len(review.split())}"
   ]
  },
  {
   "cell_type": "code",
   "execution_count": 145,
   "id": "ad222672",
   "metadata": {},
   "outputs": [],
   "source": [
    "amounts_df = accuracy(100, amounts)"
   ]
  },
  {
   "cell_type": "code",
   "execution_count": 146,
   "id": "feb82604",
   "metadata": {},
   "outputs": [
    {
     "data": {
      "text/html": [
       "<div>\n",
       "<style scoped>\n",
       "    .dataframe tbody tr th:only-of-type {\n",
       "        vertical-align: middle;\n",
       "    }\n",
       "\n",
       "    .dataframe tbody tr th {\n",
       "        vertical-align: top;\n",
       "    }\n",
       "\n",
       "    .dataframe thead th {\n",
       "        text-align: right;\n",
       "    }\n",
       "</style>\n",
       "<table border=\"1\" class=\"dataframe\">\n",
       "  <thead>\n",
       "    <tr style=\"text-align: right;\">\n",
       "      <th></th>\n",
       "      <th>train_set_acc</th>\n",
       "      <th>dev_set_acc</th>\n",
       "      <th>test_acc</th>\n",
       "    </tr>\n",
       "  </thead>\n",
       "  <tbody>\n",
       "    <tr>\n",
       "      <th>count</th>\n",
       "      <td>100.000000</td>\n",
       "      <td>100.000000</td>\n",
       "      <td>100.00000</td>\n",
       "    </tr>\n",
       "    <tr>\n",
       "      <th>mean</th>\n",
       "      <td>0.575645</td>\n",
       "      <td>0.324300</td>\n",
       "      <td>0.32426</td>\n",
       "    </tr>\n",
       "    <tr>\n",
       "      <th>std</th>\n",
       "      <td>0.002814</td>\n",
       "      <td>0.011057</td>\n",
       "      <td>0.01430</td>\n",
       "    </tr>\n",
       "    <tr>\n",
       "      <th>min</th>\n",
       "      <td>0.568875</td>\n",
       "      <td>0.300000</td>\n",
       "      <td>0.28300</td>\n",
       "    </tr>\n",
       "    <tr>\n",
       "      <th>25%</th>\n",
       "      <td>0.573937</td>\n",
       "      <td>0.317000</td>\n",
       "      <td>0.31700</td>\n",
       "    </tr>\n",
       "    <tr>\n",
       "      <th>50%</th>\n",
       "      <td>0.575937</td>\n",
       "      <td>0.323000</td>\n",
       "      <td>0.32450</td>\n",
       "    </tr>\n",
       "    <tr>\n",
       "      <th>75%</th>\n",
       "      <td>0.577375</td>\n",
       "      <td>0.331250</td>\n",
       "      <td>0.33200</td>\n",
       "    </tr>\n",
       "    <tr>\n",
       "      <th>max</th>\n",
       "      <td>0.582000</td>\n",
       "      <td>0.349000</td>\n",
       "      <td>0.37000</td>\n",
       "    </tr>\n",
       "  </tbody>\n",
       "</table>\n",
       "</div>"
      ],
      "text/plain": [
       "       train_set_acc  dev_set_acc   test_acc\n",
       "count     100.000000   100.000000  100.00000\n",
       "mean        0.575645     0.324300    0.32426\n",
       "std         0.002814     0.011057    0.01430\n",
       "min         0.568875     0.300000    0.28300\n",
       "25%         0.573937     0.317000    0.31700\n",
       "50%         0.575937     0.323000    0.32450\n",
       "75%         0.577375     0.331250    0.33200\n",
       "max         0.582000     0.349000    0.37000"
      ]
     },
     "execution_count": 146,
     "metadata": {},
     "output_type": "execute_result"
    }
   ],
   "source": [
    "amounts_df.describe()"
   ]
  },
  {
   "cell_type": "markdown",
   "id": "98444eda",
   "metadata": {},
   "source": [
    "So clearly the features we have tried have not worked well. Our next attempt is to make a list of positive words and a list of negative words to use as features."
   ]
  },
  {
   "cell_type": "code",
   "execution_count": 147,
   "id": "6d9716ba",
   "metadata": {},
   "outputs": [],
   "source": [
    "positive_words = [\"good\", \"positive\", \"excellent\", \"fun\", \"awesome\", \"delicious\", \"wow\", \"affordable\", \"clean\", \"quick\"]\n",
    "negative_words = [\"bad\", \"loud\", \"dirty\", \"dark\", \"gross\", \"expensive\", \"slow\", \"rude\", \"negative\", \"crowded\"]"
   ]
  },
  {
   "cell_type": "code",
   "execution_count": 148,
   "id": "e9c9890e",
   "metadata": {},
   "outputs": [],
   "source": [
    "# Positive_words\n",
    "def p_words(review):\n",
    "    words = review.split()\n",
    "    return {\"matches\": any(i in words for i in positive_words)}"
   ]
  },
  {
   "cell_type": "code",
   "execution_count": 149,
   "id": "a7752b79",
   "metadata": {},
   "outputs": [],
   "source": [
    "positive_df = accuracy(100, p_words)"
   ]
  },
  {
   "cell_type": "code",
   "execution_count": 150,
   "id": "23ccc0c9",
   "metadata": {},
   "outputs": [
    {
     "data": {
      "text/html": [
       "<div>\n",
       "<style scoped>\n",
       "    .dataframe tbody tr th:only-of-type {\n",
       "        vertical-align: middle;\n",
       "    }\n",
       "\n",
       "    .dataframe tbody tr th {\n",
       "        vertical-align: top;\n",
       "    }\n",
       "\n",
       "    .dataframe thead th {\n",
       "        text-align: right;\n",
       "    }\n",
       "</style>\n",
       "<table border=\"1\" class=\"dataframe\">\n",
       "  <thead>\n",
       "    <tr style=\"text-align: right;\">\n",
       "      <th></th>\n",
       "      <th>train_set_acc</th>\n",
       "      <th>dev_set_acc</th>\n",
       "      <th>test_acc</th>\n",
       "    </tr>\n",
       "  </thead>\n",
       "  <tbody>\n",
       "    <tr>\n",
       "      <th>count</th>\n",
       "      <td>100.000000</td>\n",
       "      <td>100.000000</td>\n",
       "      <td>100.000000</td>\n",
       "    </tr>\n",
       "    <tr>\n",
       "      <th>mean</th>\n",
       "      <td>0.379602</td>\n",
       "      <td>0.377040</td>\n",
       "      <td>0.380140</td>\n",
       "    </tr>\n",
       "    <tr>\n",
       "      <th>std</th>\n",
       "      <td>0.002221</td>\n",
       "      <td>0.012345</td>\n",
       "      <td>0.012879</td>\n",
       "    </tr>\n",
       "    <tr>\n",
       "      <th>min</th>\n",
       "      <td>0.374250</td>\n",
       "      <td>0.346000</td>\n",
       "      <td>0.351000</td>\n",
       "    </tr>\n",
       "    <tr>\n",
       "      <th>25%</th>\n",
       "      <td>0.378125</td>\n",
       "      <td>0.369750</td>\n",
       "      <td>0.371750</td>\n",
       "    </tr>\n",
       "    <tr>\n",
       "      <th>50%</th>\n",
       "      <td>0.379750</td>\n",
       "      <td>0.378000</td>\n",
       "      <td>0.379500</td>\n",
       "    </tr>\n",
       "    <tr>\n",
       "      <th>75%</th>\n",
       "      <td>0.381031</td>\n",
       "      <td>0.386000</td>\n",
       "      <td>0.389000</td>\n",
       "    </tr>\n",
       "    <tr>\n",
       "      <th>max</th>\n",
       "      <td>0.384500</td>\n",
       "      <td>0.403000</td>\n",
       "      <td>0.409000</td>\n",
       "    </tr>\n",
       "  </tbody>\n",
       "</table>\n",
       "</div>"
      ],
      "text/plain": [
       "       train_set_acc  dev_set_acc    test_acc\n",
       "count     100.000000   100.000000  100.000000\n",
       "mean        0.379602     0.377040    0.380140\n",
       "std         0.002221     0.012345    0.012879\n",
       "min         0.374250     0.346000    0.351000\n",
       "25%         0.378125     0.369750    0.371750\n",
       "50%         0.379750     0.378000    0.379500\n",
       "75%         0.381031     0.386000    0.389000\n",
       "max         0.384500     0.403000    0.409000"
      ]
     },
     "execution_count": 150,
     "metadata": {},
     "output_type": "execute_result"
    }
   ],
   "source": [
    "positive_df.describe()"
   ]
  },
  {
   "cell_type": "code",
   "execution_count": 151,
   "id": "f7a33d45",
   "metadata": {},
   "outputs": [],
   "source": [
    "# Negative_words\n",
    "def neg_words(review):\n",
    "    words = review.split()\n",
    "    return {\"matches\": any(i in words for i in negative_words)}"
   ]
  },
  {
   "cell_type": "code",
   "execution_count": 152,
   "id": "064638a6",
   "metadata": {},
   "outputs": [],
   "source": [
    "neg_df = accuracy(100, neg_words)"
   ]
  },
  {
   "cell_type": "code",
   "execution_count": 153,
   "id": "7b887ebc",
   "metadata": {},
   "outputs": [
    {
     "data": {
      "text/html": [
       "<div>\n",
       "<style scoped>\n",
       "    .dataframe tbody tr th:only-of-type {\n",
       "        vertical-align: middle;\n",
       "    }\n",
       "\n",
       "    .dataframe tbody tr th {\n",
       "        vertical-align: top;\n",
       "    }\n",
       "\n",
       "    .dataframe thead th {\n",
       "        text-align: right;\n",
       "    }\n",
       "</style>\n",
       "<table border=\"1\" class=\"dataframe\">\n",
       "  <thead>\n",
       "    <tr style=\"text-align: right;\">\n",
       "      <th></th>\n",
       "      <th>train_set_acc</th>\n",
       "      <th>dev_set_acc</th>\n",
       "      <th>test_acc</th>\n",
       "    </tr>\n",
       "  </thead>\n",
       "  <tbody>\n",
       "    <tr>\n",
       "      <th>count</th>\n",
       "      <td>100.000000</td>\n",
       "      <td>100.000000</td>\n",
       "      <td>100.000000</td>\n",
       "    </tr>\n",
       "    <tr>\n",
       "      <th>mean</th>\n",
       "      <td>0.360637</td>\n",
       "      <td>0.361850</td>\n",
       "      <td>0.359050</td>\n",
       "    </tr>\n",
       "    <tr>\n",
       "      <th>std</th>\n",
       "      <td>0.002335</td>\n",
       "      <td>0.013007</td>\n",
       "      <td>0.013879</td>\n",
       "    </tr>\n",
       "    <tr>\n",
       "      <th>min</th>\n",
       "      <td>0.355375</td>\n",
       "      <td>0.329000</td>\n",
       "      <td>0.324000</td>\n",
       "    </tr>\n",
       "    <tr>\n",
       "      <th>25%</th>\n",
       "      <td>0.358875</td>\n",
       "      <td>0.354500</td>\n",
       "      <td>0.349000</td>\n",
       "    </tr>\n",
       "    <tr>\n",
       "      <th>50%</th>\n",
       "      <td>0.360687</td>\n",
       "      <td>0.363000</td>\n",
       "      <td>0.361000</td>\n",
       "    </tr>\n",
       "    <tr>\n",
       "      <th>75%</th>\n",
       "      <td>0.362406</td>\n",
       "      <td>0.370000</td>\n",
       "      <td>0.368000</td>\n",
       "    </tr>\n",
       "    <tr>\n",
       "      <th>max</th>\n",
       "      <td>0.366375</td>\n",
       "      <td>0.397000</td>\n",
       "      <td>0.390000</td>\n",
       "    </tr>\n",
       "  </tbody>\n",
       "</table>\n",
       "</div>"
      ],
      "text/plain": [
       "       train_set_acc  dev_set_acc    test_acc\n",
       "count     100.000000   100.000000  100.000000\n",
       "mean        0.360637     0.361850    0.359050\n",
       "std         0.002335     0.013007    0.013879\n",
       "min         0.355375     0.329000    0.324000\n",
       "25%         0.358875     0.354500    0.349000\n",
       "50%         0.360687     0.363000    0.361000\n",
       "75%         0.362406     0.370000    0.368000\n",
       "max         0.366375     0.397000    0.390000"
      ]
     },
     "execution_count": 153,
     "metadata": {},
     "output_type": "execute_result"
    }
   ],
   "source": [
    "neg_df.describe()"
   ]
  },
  {
   "cell_type": "markdown",
   "id": "618ed458",
   "metadata": {},
   "source": [
    "So that did no help much either. Let's see what happens if we combine them."
   ]
  },
  {
   "cell_type": "code",
   "execution_count": 154,
   "id": "d685cbdc",
   "metadata": {},
   "outputs": [],
   "source": [
    "def common_words(review):\n",
    "    words = review.split()\n",
    "    return {\"matches\": any(i in words for i in (negative_words + positive_words))}"
   ]
  },
  {
   "cell_type": "code",
   "execution_count": 155,
   "id": "b1e53c79",
   "metadata": {},
   "outputs": [],
   "source": [
    "com_df = accuracy(100, common_words)"
   ]
  },
  {
   "cell_type": "code",
   "execution_count": 156,
   "id": "3d8a0fb1",
   "metadata": {},
   "outputs": [
    {
     "data": {
      "text/html": [
       "<div>\n",
       "<style scoped>\n",
       "    .dataframe tbody tr th:only-of-type {\n",
       "        vertical-align: middle;\n",
       "    }\n",
       "\n",
       "    .dataframe tbody tr th {\n",
       "        vertical-align: top;\n",
       "    }\n",
       "\n",
       "    .dataframe thead th {\n",
       "        text-align: right;\n",
       "    }\n",
       "</style>\n",
       "<table border=\"1\" class=\"dataframe\">\n",
       "  <thead>\n",
       "    <tr style=\"text-align: right;\">\n",
       "      <th></th>\n",
       "      <th>train_set_acc</th>\n",
       "      <th>dev_set_acc</th>\n",
       "      <th>test_acc</th>\n",
       "    </tr>\n",
       "  </thead>\n",
       "  <tbody>\n",
       "    <tr>\n",
       "      <th>count</th>\n",
       "      <td>100.000000</td>\n",
       "      <td>100.000000</td>\n",
       "      <td>100.000000</td>\n",
       "    </tr>\n",
       "    <tr>\n",
       "      <th>mean</th>\n",
       "      <td>0.381770</td>\n",
       "      <td>0.379440</td>\n",
       "      <td>0.384400</td>\n",
       "    </tr>\n",
       "    <tr>\n",
       "      <th>std</th>\n",
       "      <td>0.002613</td>\n",
       "      <td>0.015692</td>\n",
       "      <td>0.015022</td>\n",
       "    </tr>\n",
       "    <tr>\n",
       "      <th>min</th>\n",
       "      <td>0.373000</td>\n",
       "      <td>0.331000</td>\n",
       "      <td>0.343000</td>\n",
       "    </tr>\n",
       "    <tr>\n",
       "      <th>25%</th>\n",
       "      <td>0.380250</td>\n",
       "      <td>0.369000</td>\n",
       "      <td>0.376000</td>\n",
       "    </tr>\n",
       "    <tr>\n",
       "      <th>50%</th>\n",
       "      <td>0.381812</td>\n",
       "      <td>0.379500</td>\n",
       "      <td>0.386000</td>\n",
       "    </tr>\n",
       "    <tr>\n",
       "      <th>75%</th>\n",
       "      <td>0.383531</td>\n",
       "      <td>0.390250</td>\n",
       "      <td>0.393250</td>\n",
       "    </tr>\n",
       "    <tr>\n",
       "      <th>max</th>\n",
       "      <td>0.387500</td>\n",
       "      <td>0.418000</td>\n",
       "      <td>0.433000</td>\n",
       "    </tr>\n",
       "  </tbody>\n",
       "</table>\n",
       "</div>"
      ],
      "text/plain": [
       "       train_set_acc  dev_set_acc    test_acc\n",
       "count     100.000000   100.000000  100.000000\n",
       "mean        0.381770     0.379440    0.384400\n",
       "std         0.002613     0.015692    0.015022\n",
       "min         0.373000     0.331000    0.343000\n",
       "25%         0.380250     0.369000    0.376000\n",
       "50%         0.381812     0.379500    0.386000\n",
       "75%         0.383531     0.390250    0.393250\n",
       "max         0.387500     0.418000    0.433000"
      ]
     },
     "execution_count": 156,
     "metadata": {},
     "output_type": "execute_result"
    }
   ],
   "source": [
    "com_df.describe()"
   ]
  },
  {
   "cell_type": "markdown",
   "id": "803b08ed",
   "metadata": {},
   "source": [
    "#### Conclusions for the prediction model\n",
    "That was hard, and surprising. The models that used review lengths as their features performed better than those that were matched to other lists. I imagine if we had a bigger list of the most commonly used positive and negative words are model would score much higher."
   ]
  },
  {
   "cell_type": "code",
   "execution_count": null,
   "id": "2bd335a9",
   "metadata": {},
   "outputs": [],
   "source": []
  }
 ],
 "metadata": {
  "kernelspec": {
   "display_name": "Python 3 (ipykernel)",
   "language": "python",
   "name": "python3"
  },
  "language_info": {
   "codemirror_mode": {
    "name": "ipython",
    "version": 3
   },
   "file_extension": ".py",
   "mimetype": "text/x-python",
   "name": "python",
   "nbconvert_exporter": "python",
   "pygments_lexer": "ipython3",
   "version": "3.9.7"
  }
 },
 "nbformat": 4,
 "nbformat_minor": 5
}
